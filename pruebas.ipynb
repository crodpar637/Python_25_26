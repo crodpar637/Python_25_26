{
 "cells": [
  {
   "cell_type": "code",
   "execution_count": 14,
   "id": "d26e56f7-95ee-400b-b010-b21ee89dee5e",
   "metadata": {},
   "outputs": [
    {
     "name": "stdin",
     "output_type": "stream",
     "text": [
      "Dime tu nombre Carlos\n"
     ]
    },
    {
     "name": "stdout",
     "output_type": "stream",
     "text": [
      "Hola Carlos Buenos días\n"
     ]
    }
   ],
   "source": [
    "%run hola.py\n"
   ]
  },
  {
   "cell_type": "code",
   "execution_count": 1,
   "id": "0bd08b56-595d-424c-b9f6-ee92b51322d7",
   "metadata": {},
   "outputs": [
    {
     "name": "stdout",
     "output_type": "stream",
     "text": [
      "La suma es 15\n",
      "================================================================================\n"
     ]
    }
   ],
   "source": [
    "%run conversion.py"
   ]
  },
  {
   "cell_type": "code",
   "execution_count": 12,
   "id": "06632094-663f-4c7e-b576-5e9f9fa4a48c",
   "metadata": {},
   "outputs": [
    {
     "name": "stdout",
     "output_type": "stream",
     "text": [
      "[1, 2, 3, 'una lista', [1, 2]]\n",
      "Impares [(300, 450), (500, 350)]\n",
      "Pares [(400, 300), (450, 300)]\n",
      "Dos Primeros [(300, 450), (400, 300)]\n",
      "Dos Ultimos [(500, 350), (450, 300)]\n",
      "Primero y ultimo: [(300, 450), (450, 300)]\n",
      "Primero y ultimo: [(300, 450), (450, 300)]\n",
      "Primero y ultimo: [(300, 450), (450, 300)]\n"
     ]
    }
   ],
   "source": [
    "%run listas.py"
   ]
  },
  {
   "cell_type": "code",
   "execution_count": 1,
   "id": "106d583e-cec3-4c3b-972a-a1731ca1010d",
   "metadata": {},
   "outputs": [
    {
     "name": "stdout",
     "output_type": "stream",
     "text": [
      "*\n",
      "***\n",
      "*****\n",
      "*******\n"
     ]
    }
   ],
   "source": [
    "%run p13.py"
   ]
  },
  {
   "cell_type": "code",
   "execution_count": 9,
   "id": "9d343a2b-6710-4be3-8f0c-acd71c06dcba",
   "metadata": {},
   "outputs": [
    {
     "name": "stdout",
     "output_type": "stream",
     "text": [
      " d:  {'k1': 'v1', 'k2': 'v2'}\n",
      " d1:  {5: 'Linea', 'Sevilla': True, False: (2, 4), 'k3': 'v3', 'k1': 'v1 - nuevo'}\n",
      " d:  {'k1': 'v1 - nuevo', 'k2': 'v2', 5: 'Linea', 'Sevilla': True, False: (2, 4), 'k3': 'v3'}\n",
      " d1:  {5: 'Linea', 'Sevilla': True, False: (2, 4), 'k3': 'v3', 'k1': 'v1 - nuevo'}\n",
      "Recorrido de diccionarios\n",
      "Recorrido por claves\n",
      "Clave: k1\n",
      "Clave: k2\n",
      "Clave: 5\n",
      "Clave: Sevilla\n",
      "Clave: False\n",
      "Clave: k3\n",
      "Recorrido por valores\n",
      "Valor: v1 - nuevo\n",
      "Valor: v2\n",
      "Valor: Linea\n",
      "Valor: True\n",
      "Valor: (2, 4)\n",
      "Valor: v3\n",
      "Recorrido por elementos\n",
      "Elemento: ('k1', 'v1 - nuevo') Clave: k1 Valor: v1 - nuevo\n",
      "Elemento: ('k2', 'v2') Clave: k2 Valor: v2\n",
      "Elemento: (5, 'Linea') Clave: 5 Valor: Linea\n",
      "Elemento: ('Sevilla', True) Clave: Sevilla Valor: True\n",
      "Elemento: (False, (2, 4)) Clave: False Valor: (2, 4)\n",
      "Elemento: ('k3', 'v3') Clave: k3 Valor: v3\n",
      "Recorrido por elementos v2\n",
      "Clave: k1 Valor: v1 - nuevo\n",
      "Clave: k2 Valor: v2\n",
      "Clave: 5 Valor: Linea\n",
      "Clave: Sevilla Valor: True\n",
      "Clave: False Valor: (2, 4)\n",
      "Clave: k3 Valor: v3\n",
      "dict_keys(['k1', 'k2', 5, 'Sevilla', False, 'k3'])\n",
      "dict_values(['v1 - nuevo', 'v2', 'Linea', True, (2, 4), 'v3'])\n",
      "dict_items([('k1', 'v1 - nuevo'), ('k2', 'v2'), (5, 'Linea'), ('Sevilla', True), (False, (2, 4)), ('k3', 'v3')])\n",
      "No existe\n"
     ]
    }
   ],
   "source": [
    "%run diccionarios.py"
   ]
  },
  {
   "cell_type": "code",
   "execution_count": 16,
   "id": "8ee01770-8ae9-44db-b171-22524341f491",
   "metadata": {},
   "outputs": [],
   "source": [
    "%run p26.py"
   ]
  },
  {
   "cell_type": "code",
   "execution_count": 22,
   "id": "25b8bb42-bb69-450d-af51-536b4cccb487",
   "metadata": {},
   "outputs": [
    {
     "name": "stdin",
     "output_type": "stream",
     "text": [
      "Introduzca un numero para la primera lista: 3\n",
      "Introduzca un numero para la segunda lista: 4\n",
      "Introduzca un numero para la primera lista: 5\n",
      "Introduzca un numero para la segunda lista: 2\n",
      "Introduzca un numero para la primera lista: 3\n",
      "Introduzca un numero para la segunda lista: 4\n"
     ]
    },
    {
     "name": "stdout",
     "output_type": "stream",
     "text": [
      "[3, 5, 3] [3, 3, 5]\n",
      "[4, 2, 4] [2, 4, 4]\n",
      "(3, 3, 5, 2, 4, 4)\n"
     ]
    }
   ],
   "source": [
    "%run p27.py"
   ]
  },
  {
   "cell_type": "code",
   "execution_count": 5,
   "id": "3141f73d-64c5-4efe-8905-6a4a8308d51a",
   "metadata": {},
   "outputs": [
    {
     "name": "stdin",
     "output_type": "stream",
     "text": [
      "Dime una palabra ('fin' para terminar): bob\n",
      "Dime una palabra ('fin' para terminar): esponja\n",
      "Dime una palabra ('fin' para terminar): vive\n",
      "Dime una palabra ('fin' para terminar): en\n",
      "Dime una palabra ('fin' para terminar): una\n",
      "Dime una palabra ('fin' para terminar): piña\n",
      "Dime una palabra ('fin' para terminar): debajo\n",
      "Dime una palabra ('fin' para terminar): del\n",
      "Dime una palabra ('fin' para terminar): mar\n",
      "Dime una palabra ('fin' para terminar): agua\n",
      "Dime una palabra ('fin' para terminar): fin\n"
     ]
    },
    {
     "name": "stdout",
     "output_type": "stream",
     "text": [
      "Lista de palabras: ['bob', 'esponja', 'vive', 'en', 'una', 'piña', 'debajo', 'del', 'mar', 'agua']\n",
      "Palabras que comienzan por vocal: ['esponja', 'en', 'una', 'agua']\n",
      "Palabras que comienzan por consonante: ('bob', 'vive', 'piña', 'debajo', 'del', 'mar')\n"
     ]
    }
   ],
   "source": [
    "%run p28.py"
   ]
  },
  {
   "cell_type": "code",
   "execution_count": 4,
   "id": "7b200561-59fb-426f-b6f1-e2da45c6b523",
   "metadata": {},
   "outputs": [
    {
     "name": "stdin",
     "output_type": "stream",
     "text": [
      "Dime un numero: 1\n",
      "Dime un numero: 2\n",
      "Dime un numero: 3\n",
      "Dime un numero: 4\n",
      "Dime un numero: 5\n"
     ]
    },
    {
     "name": "stdout",
     "output_type": "stream",
     "text": [
      "Números: (1, 2, 3, 4, 5)\n",
      "Lista resultado:  [(1, 'IMPAR'), (2, 'PAR'), (3, 'IMPAR'), (4, 'PAR'), (5, 'IMPAR')]\n"
     ]
    }
   ],
   "source": [
    "%run p29.py"
   ]
  },
  {
   "cell_type": "code",
   "execution_count": 3,
   "id": "709ed7c0-0e22-47db-bc79-e1f2fc889a2e",
   "metadata": {},
   "outputs": [
    {
     "name": "stdin",
     "output_type": "stream",
     "text": [
      "Dime el equipo: betis\n",
      "¿Cuántos partidos ha ganado? 10\n",
      "¿Cuántos partidos ha perdido? 7\n",
      "¿Cuántos partidos ha empatado? 0\n",
      "Dime el equipo: sevilla\n",
      "¿Cuántos partidos ha ganado? 8\n",
      "¿Cuántos partidos ha perdido? 9\n",
      "¿Cuántos partidos ha empatado? 0\n",
      "Dime el equipo: malaga\n",
      "¿Cuántos partidos ha ganado? 5\n",
      "¿Cuántos partidos ha perdido? 5\n",
      "¿Cuántos partidos ha empatado? 7\n"
     ]
    },
    {
     "name": "stdout",
     "output_type": "stream",
     "text": [
      "Equipos y datos de partidos: [('betis', 10, 7, 0), ('sevilla', 8, 9, 0), ('malaga', 5, 5, 7)]\n",
      "Equipos, puntos y clasificación (datos ordenados): [('betis', 30), ('sevilla', 24), ('malaga', 22)]\n"
     ]
    }
   ],
   "source": [
    "%run p30.py"
   ]
  },
  {
   "cell_type": "code",
   "execution_count": 4,
   "id": "e7ba9203-24c1-4bce-a149-b4ef70031862",
   "metadata": {},
   "outputs": [
    {
     "name": "stdout",
     "output_type": "stream",
     "text": [
      "14\n"
     ]
    }
   ],
   "source": [
    "%run lambdas.py"
   ]
  },
  {
   "cell_type": "code",
   "execution_count": 1,
   "id": "42053c87-9d83-47e7-aa2e-db5b310e5692",
   "metadata": {},
   "outputs": [
    {
     "name": "stdin",
     "output_type": "stream",
     "text": [
      "Dime un nombre: manolo\n",
      "Dime el día: lunes\n",
      "Dime un nombre: juan\n",
      "Dime el día: juernes\n"
     ]
    },
    {
     "name": "stdout",
     "output_type": "stream",
     "text": [
      "El día juernes no es válido\n"
     ]
    },
    {
     "name": "stdin",
     "output_type": "stream",
     "text": [
      "Dime un nombre: juan\n",
      "Dime el día: viernes\n",
      "Dime un nombre: luisa\n",
      "Dime el día: lunes\n"
     ]
    },
    {
     "name": "stdout",
     "output_type": "stream",
     "text": [
      "El día lunes ya se ha asignado antes\n"
     ]
    },
    {
     "name": "stdin",
     "output_type": "stream",
     "text": [
      "Dime un nombre: luisa\n",
      "Dime el día: martes\n",
      "Dime un nombre: manoli\n",
      "Dime el día: martes\n"
     ]
    },
    {
     "name": "stdout",
     "output_type": "stream",
     "text": [
      "El día martes ya se ha asignado antes\n"
     ]
    },
    {
     "name": "stdin",
     "output_type": "stream",
     "text": [
      "Dime un nombre: luisa\n",
      "Dime el día: miercoles\n"
     ]
    },
    {
     "name": "stdout",
     "output_type": "stream",
     "text": [
      "El trabajador luisa ya tiene asignada una guardia\n"
     ]
    },
    {
     "name": "stdin",
     "output_type": "stream",
     "text": [
      "Dime un nombre: margarita\n",
      "Dime el día: miercoles\n",
      "Dime un nombre: alan\n",
      "Dime el día: jueves\n"
     ]
    },
    {
     "name": "stdout",
     "output_type": "stream",
     "text": [
      "{'manolo': 'lunes', 'juan': 'viernes', 'luisa': 'martes', 'margarita': 'miercoles', 'alan': 'jueves'}\n"
     ]
    }
   ],
   "source": [
    "%run p34.py"
   ]
  },
  {
   "cell_type": "code",
   "execution_count": 6,
   "id": "90efdaf7-cad2-4a93-9b27-0c66b9b5b8d6",
   "metadata": {},
   "outputs": [
    {
     "name": "stdin",
     "output_type": "stream",
     "text": [
      "Introduzca una cuenta: bar\n",
      "Importe: 20\n",
      "Introduzca una cuenta: bar\n",
      "Importe: -30\n",
      "Introduzca una cuenta: futbol\n",
      "Importe: 30\n",
      "Introduzca una cuenta: futbol\n",
      "Importe: 40\n",
      "Introduzca una cuenta: tenis\n",
      "Importe: 15\n",
      "Introduzca una cuenta: tenis\n",
      "Importe: -20\n",
      "Introduzca una cuenta: tenis\n",
      "Importe: 80\n",
      "Introduzca una cuenta: x\n"
     ]
    },
    {
     "name": "stdout",
     "output_type": "stream",
     "text": [
      "{'bar': (20.0, -30.0), 'futbol': (30.0, 40.0), 'tenis': (15.0, -20.0, 80.0)}\n",
      "[('bar', -10.0), ('futbol', 70.0), ('tenis', 75.0)]\n",
      "Cuenta con menor saldo: ('bar', -10.0)\n",
      "Cuenta con mayor saldo: ('tenis', 75.0)\n"
     ]
    }
   ],
   "source": [
    "%run p37.py"
   ]
  },
  {
   "cell_type": "code",
   "execution_count": 2,
   "id": "a69bff78-0e6f-47f3-9c52-9bafe260cb48",
   "metadata": {},
   "outputs": [
    {
     "name": "stdout",
     "output_type": "stream",
     "text": [
      "(3, 4, 5, 6)\n",
      "('c', 'd')\n",
      "{'t': 3, 'z': 4, 'j': 5, 'm': 6}\n",
      "{'l1': 'c', 'l2': 'd'}\n"
     ]
    }
   ],
   "source": [
    "%run funciones.py"
   ]
  },
  {
   "cell_type": "code",
   "execution_count": 9,
   "id": "34b7b738-a811-427e-b90d-3167eb33c236",
   "metadata": {},
   "outputs": [
    {
     "name": "stdout",
     "output_type": "stream",
     "text": [
      "a.instancia: 3\n",
      "b.instancia: 3\n",
      "a.instancia: 9\n",
      "b.instancia: 3\n",
      "Ejemplo.estatico 7\n",
      "a.estatico 7\n",
      "b.estatico: 7\n",
      "Ejemplo.estatico 7\n",
      "a.estatico 10\n",
      "b.estatico: 7\n"
     ]
    }
   ],
   "source": [
    "%run clases.py"
   ]
  },
  {
   "cell_type": "code",
   "execution_count": 15,
   "id": "55279b55-d152-4423-808f-41b58a72acec",
   "metadata": {},
   "outputs": [
    {
     "name": "stdout",
     "output_type": "stream",
     "text": [
      "metal\n"
     ]
    }
   ],
   "source": [
    "%run instrumentos.py"
   ]
  },
  {
   "cell_type": "code",
   "execution_count": 18,
   "id": "9eb3a66d-217d-4094-bba6-7dca19f143c8",
   "metadata": {},
   "outputs": [
    {
     "name": "stdout",
     "output_type": "stream",
     "text": [
      "Publico\n",
      "Privado\n"
     ]
    },
    {
     "ename": "AttributeError",
     "evalue": "'Ejemplo' object has no attribute '__privado'",
     "output_type": "error",
     "traceback": [
      "\u001b[1;31m---------------------------------------------------------------------------\u001b[0m",
      "\u001b[1;31mAttributeError\u001b[0m                            Traceback (most recent call last)",
      "File \u001b[1;32m~\\AppData\\Roaming\\EDUPYTER-313-3.13.0\\IPYNB\\visibilidad_metodos.py:11\u001b[0m\n\u001b[0;32m      9\u001b[0m ej\u001b[38;5;241m.\u001b[39mpublico()\n\u001b[0;32m     10\u001b[0m ej\u001b[38;5;241m.\u001b[39m_Ejemplo__privado()\n\u001b[1;32m---> 11\u001b[0m \u001b[43mej\u001b[49m\u001b[38;5;241;43m.\u001b[39;49m\u001b[43m__privado\u001b[49m()\n",
      "\u001b[1;31mAttributeError\u001b[0m: 'Ejemplo' object has no attribute '__privado'"
     ]
    }
   ],
   "source": [
    "%run visibilidad_metodos.py"
   ]
  },
  {
   "cell_type": "code",
   "execution_count": null,
   "id": "7822120b-86a3-4330-a80c-b7f81a509504",
   "metadata": {},
   "outputs": [],
   "source": []
  }
 ],
 "metadata": {
  "kernelspec": {
   "display_name": "Python 3 (ipykernel)",
   "language": "python",
   "name": "python3"
  },
  "language_info": {
   "codemirror_mode": {
    "name": "ipython",
    "version": 3
   },
   "file_extension": ".py",
   "mimetype": "text/x-python",
   "name": "python",
   "nbconvert_exporter": "python",
   "pygments_lexer": "ipython3",
   "version": "3.13.0"
  }
 },
 "nbformat": 4,
 "nbformat_minor": 5
}
