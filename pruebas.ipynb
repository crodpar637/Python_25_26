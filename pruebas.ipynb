{
 "cells": [
  {
   "cell_type": "code",
   "execution_count": 14,
   "id": "d26e56f7-95ee-400b-b010-b21ee89dee5e",
   "metadata": {},
   "outputs": [
    {
     "name": "stdin",
     "output_type": "stream",
     "text": [
      "Dime tu nombre Carlos\n"
     ]
    },
    {
     "name": "stdout",
     "output_type": "stream",
     "text": [
      "Hola Carlos Buenos días\n"
     ]
    }
   ],
   "source": [
    "%run hola.py\n"
   ]
  },
  {
   "cell_type": "code",
   "execution_count": 1,
   "id": "0bd08b56-595d-424c-b9f6-ee92b51322d7",
   "metadata": {},
   "outputs": [
    {
     "name": "stdout",
     "output_type": "stream",
     "text": [
      "La suma es 15\n",
      "================================================================================\n"
     ]
    }
   ],
   "source": [
    "%run conversion.py"
   ]
  },
  {
   "cell_type": "code",
   "execution_count": 12,
   "id": "06632094-663f-4c7e-b576-5e9f9fa4a48c",
   "metadata": {},
   "outputs": [
    {
     "name": "stdout",
     "output_type": "stream",
     "text": [
      "[1, 2, 3, 'una lista', [1, 2]]\n",
      "Impares [(300, 450), (500, 350)]\n",
      "Pares [(400, 300), (450, 300)]\n",
      "Dos Primeros [(300, 450), (400, 300)]\n",
      "Dos Ultimos [(500, 350), (450, 300)]\n",
      "Primero y ultimo: [(300, 450), (450, 300)]\n",
      "Primero y ultimo: [(300, 450), (450, 300)]\n",
      "Primero y ultimo: [(300, 450), (450, 300)]\n"
     ]
    }
   ],
   "source": [
    "%run listas.py"
   ]
  },
  {
   "cell_type": "code",
   "execution_count": 1,
   "id": "106d583e-cec3-4c3b-972a-a1731ca1010d",
   "metadata": {},
   "outputs": [
    {
     "name": "stdout",
     "output_type": "stream",
     "text": [
      "*\n",
      "***\n",
      "*****\n",
      "*******\n"
     ]
    }
   ],
   "source": [
    "%run p13.py"
   ]
  },
  {
   "cell_type": "code",
   "execution_count": 9,
   "id": "9d343a2b-6710-4be3-8f0c-acd71c06dcba",
   "metadata": {},
   "outputs": [
    {
     "name": "stdout",
     "output_type": "stream",
     "text": [
      " d:  {'k1': 'v1', 'k2': 'v2'}\n",
      " d1:  {5: 'Linea', 'Sevilla': True, False: (2, 4), 'k3': 'v3', 'k1': 'v1 - nuevo'}\n",
      " d:  {'k1': 'v1 - nuevo', 'k2': 'v2', 5: 'Linea', 'Sevilla': True, False: (2, 4), 'k3': 'v3'}\n",
      " d1:  {5: 'Linea', 'Sevilla': True, False: (2, 4), 'k3': 'v3', 'k1': 'v1 - nuevo'}\n",
      "Recorrido de diccionarios\n",
      "Recorrido por claves\n",
      "Clave: k1\n",
      "Clave: k2\n",
      "Clave: 5\n",
      "Clave: Sevilla\n",
      "Clave: False\n",
      "Clave: k3\n",
      "Recorrido por valores\n",
      "Valor: v1 - nuevo\n",
      "Valor: v2\n",
      "Valor: Linea\n",
      "Valor: True\n",
      "Valor: (2, 4)\n",
      "Valor: v3\n",
      "Recorrido por elementos\n",
      "Elemento: ('k1', 'v1 - nuevo') Clave: k1 Valor: v1 - nuevo\n",
      "Elemento: ('k2', 'v2') Clave: k2 Valor: v2\n",
      "Elemento: (5, 'Linea') Clave: 5 Valor: Linea\n",
      "Elemento: ('Sevilla', True) Clave: Sevilla Valor: True\n",
      "Elemento: (False, (2, 4)) Clave: False Valor: (2, 4)\n",
      "Elemento: ('k3', 'v3') Clave: k3 Valor: v3\n",
      "Recorrido por elementos v2\n",
      "Clave: k1 Valor: v1 - nuevo\n",
      "Clave: k2 Valor: v2\n",
      "Clave: 5 Valor: Linea\n",
      "Clave: Sevilla Valor: True\n",
      "Clave: False Valor: (2, 4)\n",
      "Clave: k3 Valor: v3\n",
      "dict_keys(['k1', 'k2', 5, 'Sevilla', False, 'k3'])\n",
      "dict_values(['v1 - nuevo', 'v2', 'Linea', True, (2, 4), 'v3'])\n",
      "dict_items([('k1', 'v1 - nuevo'), ('k2', 'v2'), (5, 'Linea'), ('Sevilla', True), (False, (2, 4)), ('k3', 'v3')])\n",
      "No existe\n"
     ]
    }
   ],
   "source": [
    "%run diccionarios.py"
   ]
  },
  {
   "cell_type": "code",
   "execution_count": 16,
   "id": "8ee01770-8ae9-44db-b171-22524341f491",
   "metadata": {},
   "outputs": [],
   "source": [
    "%run p26.py"
   ]
  },
  {
   "cell_type": "code",
   "execution_count": null,
   "id": "25b8bb42-bb69-450d-af51-536b4cccb487",
   "metadata": {},
   "outputs": [],
   "source": []
  }
 ],
 "metadata": {
  "kernelspec": {
   "display_name": "Python 3 (ipykernel)",
   "language": "python",
   "name": "python3"
  },
  "language_info": {
   "codemirror_mode": {
    "name": "ipython",
    "version": 3
   },
   "file_extension": ".py",
   "mimetype": "text/x-python",
   "name": "python",
   "nbconvert_exporter": "python",
   "pygments_lexer": "ipython3",
   "version": "3.13.0"
  }
 },
 "nbformat": 4,
 "nbformat_minor": 5
}
