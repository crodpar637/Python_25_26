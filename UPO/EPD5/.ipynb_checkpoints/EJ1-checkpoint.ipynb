{
 "cells": [
  {
   "cell_type": "markdown",
   "metadata": {},
   "source": [
    "### Carga de la librería pandas y matplotlib"
   ]
  },
  {
   "cell_type": "code",
   "execution_count": 1,
   "metadata": {},
   "outputs": [],
   "source": [
    "import pandas as pd\n",
    "import matplotlib.pyplot as plt\n",
    "import warnings"
   ]
  },
  {
   "cell_type": "markdown",
   "metadata": {},
   "source": [
    "### Carga del fichero excel saltando las 7 primeras filas y cargando un total de 53 filas"
   ]
  },
  {
   "cell_type": "code",
   "execution_count": 2,
   "metadata": {},
   "outputs": [],
   "source": [
    "with warnings.catch_warnings(record=True):\n",
    "    warnings.simplefilter(\"always\")\n",
    "    df = pd.read_excel(\"3989.xlsx\",header=7,nrows=53, engine=\"openpyxl\")"
   ]
  },
  {
   "cell_type": "code",
   "execution_count": 3,
   "metadata": {},
   "outputs": [
    {
     "data": {
      "text/html": [
       "<div>\n",
       "<style scoped>\n",
       "    .dataframe tbody tr th:only-of-type {\n",
       "        vertical-align: middle;\n",
       "    }\n",
       "\n",
       "    .dataframe tbody tr th {\n",
       "        vertical-align: top;\n",
       "    }\n",
       "\n",
       "    .dataframe thead th {\n",
       "        text-align: right;\n",
       "    }\n",
       "</style>\n",
       "<table border=\"1\" class=\"dataframe\">\n",
       "  <thead>\n",
       "    <tr style=\"text-align: right;\">\n",
       "      <th></th>\n",
       "      <th></th>\n",
       "      <th>2020T1</th>\n",
       "      <th>2019T4</th>\n",
       "      <th>2019T3</th>\n",
       "      <th>2019T2</th>\n",
       "      <th>2019T1</th>\n",
       "      <th>2018T4</th>\n",
       "      <th>2018T3</th>\n",
       "      <th>2018T2</th>\n",
       "      <th>2018T1</th>\n",
       "      <th>...</th>\n",
       "      <th>2004T2.4</th>\n",
       "      <th>2004T1.4</th>\n",
       "      <th>2003T4.4</th>\n",
       "      <th>2003T3.4</th>\n",
       "      <th>2003T2.4</th>\n",
       "      <th>2003T1.4</th>\n",
       "      <th>2002T4.4</th>\n",
       "      <th>2002T3.4</th>\n",
       "      <th>2002T2.4</th>\n",
       "      <th>2002T1.4</th>\n",
       "    </tr>\n",
       "  </thead>\n",
       "  <tbody>\n",
       "    <tr>\n",
       "      <th>0</th>\n",
       "      <td>Total Nacional</td>\n",
       "      <td>22994.2</td>\n",
       "      <td>23158.8</td>\n",
       "      <td>23088.7</td>\n",
       "      <td>23035.5</td>\n",
       "      <td>22825.4</td>\n",
       "      <td>22868.8</td>\n",
       "      <td>22854.0</td>\n",
       "      <td>22834.2</td>\n",
       "      <td>22670.3</td>\n",
       "      <td>...</td>\n",
       "      <td>2072.0</td>\n",
       "      <td>2044.0</td>\n",
       "      <td>2022.3</td>\n",
       "      <td>1990.0</td>\n",
       "      <td>1965.4</td>\n",
       "      <td>1927.9</td>\n",
       "      <td>1901.9</td>\n",
       "      <td>1871.0</td>\n",
       "      <td>1861.7</td>\n",
       "      <td>1838.6</td>\n",
       "    </tr>\n",
       "    <tr>\n",
       "      <th>1</th>\n",
       "      <td>02 Albacete</td>\n",
       "      <td>184.4</td>\n",
       "      <td>180.9</td>\n",
       "      <td>182.6</td>\n",
       "      <td>182.1</td>\n",
       "      <td>186.5</td>\n",
       "      <td>192.1</td>\n",
       "      <td>192.9</td>\n",
       "      <td>196.1</td>\n",
       "      <td>191.7</td>\n",
       "      <td>...</td>\n",
       "      <td>15.0</td>\n",
       "      <td>17.0</td>\n",
       "      <td>14.3</td>\n",
       "      <td>14.9</td>\n",
       "      <td>15.7</td>\n",
       "      <td>14.9</td>\n",
       "      <td>13.0</td>\n",
       "      <td>13.3</td>\n",
       "      <td>13.1</td>\n",
       "      <td>11.9</td>\n",
       "    </tr>\n",
       "    <tr>\n",
       "      <th>2</th>\n",
       "      <td>03 Alicante/Alacant</td>\n",
       "      <td>895.1</td>\n",
       "      <td>934.1</td>\n",
       "      <td>920.3</td>\n",
       "      <td>917.8</td>\n",
       "      <td>876.8</td>\n",
       "      <td>883.8</td>\n",
       "      <td>903.4</td>\n",
       "      <td>886.4</td>\n",
       "      <td>893.4</td>\n",
       "      <td>...</td>\n",
       "      <td>74.3</td>\n",
       "      <td>71.1</td>\n",
       "      <td>74.5</td>\n",
       "      <td>75.4</td>\n",
       "      <td>68.1</td>\n",
       "      <td>71.0</td>\n",
       "      <td>71.5</td>\n",
       "      <td>69.2</td>\n",
       "      <td>70.5</td>\n",
       "      <td>64.3</td>\n",
       "    </tr>\n",
       "    <tr>\n",
       "      <th>3</th>\n",
       "      <td>04 Almería</td>\n",
       "      <td>354.4</td>\n",
       "      <td>352.1</td>\n",
       "      <td>334.3</td>\n",
       "      <td>337.3</td>\n",
       "      <td>340.7</td>\n",
       "      <td>339.4</td>\n",
       "      <td>336.2</td>\n",
       "      <td>332.0</td>\n",
       "      <td>349.1</td>\n",
       "      <td>...</td>\n",
       "      <td>21.7</td>\n",
       "      <td>23.3</td>\n",
       "      <td>23.2</td>\n",
       "      <td>22.9</td>\n",
       "      <td>20.8</td>\n",
       "      <td>21.4</td>\n",
       "      <td>24.2</td>\n",
       "      <td>27.0</td>\n",
       "      <td>23.6</td>\n",
       "      <td>22.3</td>\n",
       "    </tr>\n",
       "    <tr>\n",
       "      <th>4</th>\n",
       "      <td>01 Araba/Álava</td>\n",
       "      <td>151.2</td>\n",
       "      <td>154.1</td>\n",
       "      <td>156.1</td>\n",
       "      <td>158.9</td>\n",
       "      <td>161.4</td>\n",
       "      <td>157.6</td>\n",
       "      <td>156.2</td>\n",
       "      <td>155.6</td>\n",
       "      <td>155.1</td>\n",
       "      <td>...</td>\n",
       "      <td>15.8</td>\n",
       "      <td>16.5</td>\n",
       "      <td>16.2</td>\n",
       "      <td>16.0</td>\n",
       "      <td>16.0</td>\n",
       "      <td>14.8</td>\n",
       "      <td>15.1</td>\n",
       "      <td>13.4</td>\n",
       "      <td>14.5</td>\n",
       "      <td>14.0</td>\n",
       "    </tr>\n",
       "  </tbody>\n",
       "</table>\n",
       "<p>5 rows × 366 columns</p>\n",
       "</div>"
      ],
      "text/plain": [
       "                         2020T1   2019T4   2019T3   2019T2   2019T1   2018T4  \\\n",
       "0       Total Nacional  22994.2  23158.8  23088.7  23035.5  22825.4  22868.8   \n",
       "1          02 Albacete    184.4    180.9    182.6    182.1    186.5    192.1   \n",
       "2  03 Alicante/Alacant    895.1    934.1    920.3    917.8    876.8    883.8   \n",
       "3           04 Almería    354.4    352.1    334.3    337.3    340.7    339.4   \n",
       "4       01 Araba/Álava    151.2    154.1    156.1    158.9    161.4    157.6   \n",
       "\n",
       "    2018T3   2018T2   2018T1  ...  2004T2.4  2004T1.4  2003T4.4  2003T3.4  \\\n",
       "0  22854.0  22834.2  22670.3  ...    2072.0    2044.0    2022.3    1990.0   \n",
       "1    192.9    196.1    191.7  ...      15.0      17.0      14.3      14.9   \n",
       "2    903.4    886.4    893.4  ...      74.3      71.1      74.5      75.4   \n",
       "3    336.2    332.0    349.1  ...      21.7      23.3      23.2      22.9   \n",
       "4    156.2    155.6    155.1  ...      15.8      16.5      16.2      16.0   \n",
       "\n",
       "   2003T2.4  2003T1.4  2002T4.4  2002T3.4  2002T2.4  2002T1.4  \n",
       "0    1965.4    1927.9    1901.9    1871.0    1861.7    1838.6  \n",
       "1      15.7      14.9      13.0      13.3      13.1      11.9  \n",
       "2      68.1      71.0      71.5      69.2      70.5      64.3  \n",
       "3      20.8      21.4      24.2      27.0      23.6      22.3  \n",
       "4      16.0      14.8      15.1      13.4      14.5      14.0  \n",
       "\n",
       "[5 rows x 366 columns]"
      ]
     },
     "execution_count": 3,
     "metadata": {},
     "output_type": "execute_result"
    }
   ],
   "source": [
    "df.head()"
   ]
  },
  {
   "cell_type": "markdown",
   "metadata": {},
   "source": [
    "### Filtrado de columnas en un nuevo dataFrame"
   ]
  },
  {
   "cell_type": "code",
   "execution_count": 4,
   "metadata": {},
   "outputs": [],
   "source": [
    "df2 = df[['2020T1', '2019T1']]"
   ]
  },
  {
   "cell_type": "code",
   "execution_count": 5,
   "metadata": {},
   "outputs": [
    {
     "data": {
      "text/html": [
       "<div>\n",
       "<style scoped>\n",
       "    .dataframe tbody tr th:only-of-type {\n",
       "        vertical-align: middle;\n",
       "    }\n",
       "\n",
       "    .dataframe tbody tr th {\n",
       "        vertical-align: top;\n",
       "    }\n",
       "\n",
       "    .dataframe thead th {\n",
       "        text-align: right;\n",
       "    }\n",
       "</style>\n",
       "<table border=\"1\" class=\"dataframe\">\n",
       "  <thead>\n",
       "    <tr style=\"text-align: right;\">\n",
       "      <th></th>\n",
       "      <th>2020T1</th>\n",
       "      <th>2019T1</th>\n",
       "    </tr>\n",
       "  </thead>\n",
       "  <tbody>\n",
       "    <tr>\n",
       "      <th>0</th>\n",
       "      <td>22994.2</td>\n",
       "      <td>22825.4</td>\n",
       "    </tr>\n",
       "    <tr>\n",
       "      <th>1</th>\n",
       "      <td>184.4</td>\n",
       "      <td>186.5</td>\n",
       "    </tr>\n",
       "    <tr>\n",
       "      <th>2</th>\n",
       "      <td>895.1</td>\n",
       "      <td>876.8</td>\n",
       "    </tr>\n",
       "    <tr>\n",
       "      <th>3</th>\n",
       "      <td>354.4</td>\n",
       "      <td>340.7</td>\n",
       "    </tr>\n",
       "    <tr>\n",
       "      <th>4</th>\n",
       "      <td>151.2</td>\n",
       "      <td>161.4</td>\n",
       "    </tr>\n",
       "  </tbody>\n",
       "</table>\n",
       "</div>"
      ],
      "text/plain": [
       "    2020T1   2019T1\n",
       "0  22994.2  22825.4\n",
       "1    184.4    186.5\n",
       "2    895.1    876.8\n",
       "3    354.4    340.7\n",
       "4    151.2    161.4"
      ]
     },
     "execution_count": 5,
     "metadata": {},
     "output_type": "execute_result"
    }
   ],
   "source": [
    "df2.head()"
   ]
  },
  {
   "cell_type": "markdown",
   "metadata": {},
   "source": [
    "### Filtrado de filas - Eliminamos la primera seleccionando el resto"
   ]
  },
  {
   "cell_type": "code",
   "execution_count": 6,
   "metadata": {},
   "outputs": [
    {
     "data": {
      "text/html": [
       "<div>\n",
       "<style scoped>\n",
       "    .dataframe tbody tr th:only-of-type {\n",
       "        vertical-align: middle;\n",
       "    }\n",
       "\n",
       "    .dataframe tbody tr th {\n",
       "        vertical-align: top;\n",
       "    }\n",
       "\n",
       "    .dataframe thead th {\n",
       "        text-align: right;\n",
       "    }\n",
       "</style>\n",
       "<table border=\"1\" class=\"dataframe\">\n",
       "  <thead>\n",
       "    <tr style=\"text-align: right;\">\n",
       "      <th></th>\n",
       "      <th>2020T1</th>\n",
       "      <th>2019T1</th>\n",
       "    </tr>\n",
       "  </thead>\n",
       "  <tbody>\n",
       "    <tr>\n",
       "      <th>1</th>\n",
       "      <td>184.4</td>\n",
       "      <td>186.5</td>\n",
       "    </tr>\n",
       "    <tr>\n",
       "      <th>2</th>\n",
       "      <td>895.1</td>\n",
       "      <td>876.8</td>\n",
       "    </tr>\n",
       "    <tr>\n",
       "      <th>3</th>\n",
       "      <td>354.4</td>\n",
       "      <td>340.7</td>\n",
       "    </tr>\n",
       "    <tr>\n",
       "      <th>4</th>\n",
       "      <td>151.2</td>\n",
       "      <td>161.4</td>\n",
       "    </tr>\n",
       "    <tr>\n",
       "      <th>5</th>\n",
       "      <td>452.7</td>\n",
       "      <td>453.5</td>\n",
       "    </tr>\n",
       "  </tbody>\n",
       "</table>\n",
       "</div>"
      ],
      "text/plain": [
       "   2020T1  2019T1\n",
       "1   184.4   186.5\n",
       "2   895.1   876.8\n",
       "3   354.4   340.7\n",
       "4   151.2   161.4\n",
       "5   452.7   453.5"
      ]
     },
     "execution_count": 6,
     "metadata": {},
     "output_type": "execute_result"
    }
   ],
   "source": [
    "df3 = df2.iloc[1:53]\n",
    "df3.head()"
   ]
  },
  {
   "cell_type": "markdown",
   "metadata": {},
   "source": [
    "### Creamos columna acumulada"
   ]
  },
  {
   "cell_type": "code",
   "execution_count": 7,
   "metadata": {},
   "outputs": [],
   "source": [
    "dfaux = df3.iloc[:, 0 ].cumsum().to_frame()\n",
    "dfaux = dfaux.rename(columns = {\"2020T1\":'2020T1ACUM'})\n",
    "dfaux2 = df3.iloc[:, 1 ].cumsum().to_frame()\n",
    "dfaux2 = dfaux2.rename(columns = {\"2019T1\":'2019T1ACUM'})\n",
    "df3 = pd.concat([dfaux,dfaux2,df3], axis=1)"
   ]
  },
  {
   "cell_type": "code",
   "execution_count": 8,
   "metadata": {},
   "outputs": [
    {
     "data": {
      "text/html": [
       "<div>\n",
       "<style scoped>\n",
       "    .dataframe tbody tr th:only-of-type {\n",
       "        vertical-align: middle;\n",
       "    }\n",
       "\n",
       "    .dataframe tbody tr th {\n",
       "        vertical-align: top;\n",
       "    }\n",
       "\n",
       "    .dataframe thead th {\n",
       "        text-align: right;\n",
       "    }\n",
       "</style>\n",
       "<table border=\"1\" class=\"dataframe\">\n",
       "  <thead>\n",
       "    <tr style=\"text-align: right;\">\n",
       "      <th></th>\n",
       "      <th>2020T1ACUM</th>\n",
       "      <th>2019T1ACUM</th>\n",
       "      <th>2020T1</th>\n",
       "      <th>2019T1</th>\n",
       "    </tr>\n",
       "  </thead>\n",
       "  <tbody>\n",
       "    <tr>\n",
       "      <th>1</th>\n",
       "      <td>184.4</td>\n",
       "      <td>186.5</td>\n",
       "      <td>184.4</td>\n",
       "      <td>186.5</td>\n",
       "    </tr>\n",
       "    <tr>\n",
       "      <th>2</th>\n",
       "      <td>1079.5</td>\n",
       "      <td>1063.3</td>\n",
       "      <td>895.1</td>\n",
       "      <td>876.8</td>\n",
       "    </tr>\n",
       "    <tr>\n",
       "      <th>3</th>\n",
       "      <td>1433.9</td>\n",
       "      <td>1404.0</td>\n",
       "      <td>354.4</td>\n",
       "      <td>340.7</td>\n",
       "    </tr>\n",
       "    <tr>\n",
       "      <th>4</th>\n",
       "      <td>1585.1</td>\n",
       "      <td>1565.4</td>\n",
       "      <td>151.2</td>\n",
       "      <td>161.4</td>\n",
       "    </tr>\n",
       "    <tr>\n",
       "      <th>5</th>\n",
       "      <td>2037.8</td>\n",
       "      <td>2018.9</td>\n",
       "      <td>452.7</td>\n",
       "      <td>453.5</td>\n",
       "    </tr>\n",
       "    <tr>\n",
       "      <th>6</th>\n",
       "      <td>2110.3</td>\n",
       "      <td>2087.3</td>\n",
       "      <td>72.5</td>\n",
       "      <td>68.4</td>\n",
       "    </tr>\n",
       "    <tr>\n",
       "      <th>7</th>\n",
       "      <td>2422.4</td>\n",
       "      <td>2407.8</td>\n",
       "      <td>312.1</td>\n",
       "      <td>320.5</td>\n",
       "    </tr>\n",
       "    <tr>\n",
       "      <th>8</th>\n",
       "      <td>3037.4</td>\n",
       "      <td>3030.1</td>\n",
       "      <td>615.0</td>\n",
       "      <td>622.3</td>\n",
       "    </tr>\n",
       "    <tr>\n",
       "      <th>9</th>\n",
       "      <td>5897.1</td>\n",
       "      <td>5878.6</td>\n",
       "      <td>2859.7</td>\n",
       "      <td>2848.5</td>\n",
       "    </tr>\n",
       "    <tr>\n",
       "      <th>10</th>\n",
       "      <td>6432.0</td>\n",
       "      <td>6416.9</td>\n",
       "      <td>534.9</td>\n",
       "      <td>538.3</td>\n",
       "    </tr>\n",
       "  </tbody>\n",
       "</table>\n",
       "</div>"
      ],
      "text/plain": [
       "    2020T1ACUM  2019T1ACUM  2020T1  2019T1\n",
       "1        184.4       186.5   184.4   186.5\n",
       "2       1079.5      1063.3   895.1   876.8\n",
       "3       1433.9      1404.0   354.4   340.7\n",
       "4       1585.1      1565.4   151.2   161.4\n",
       "5       2037.8      2018.9   452.7   453.5\n",
       "6       2110.3      2087.3    72.5    68.4\n",
       "7       2422.4      2407.8   312.1   320.5\n",
       "8       3037.4      3030.1   615.0   622.3\n",
       "9       5897.1      5878.6  2859.7  2848.5\n",
       "10      6432.0      6416.9   534.9   538.3"
      ]
     },
     "execution_count": 8,
     "metadata": {},
     "output_type": "execute_result"
    }
   ],
   "source": [
    "df3.head(10)"
   ]
  },
  {
   "cell_type": "code",
   "execution_count": 9,
   "metadata": {},
   "outputs": [
    {
     "data": {
      "text/plain": [
       "<Axes: >"
      ]
     },
     "execution_count": 9,
     "metadata": {},
     "output_type": "execute_result"
    },
    {
     "data": {
      "text/plain": [
       "<Figure size 640x480 with 0 Axes>"
      ]
     },
     "metadata": {},
     "output_type": "display_data"
    },
    {
     "data": {
      "image/png": "[encoded data removed]",
      "text/plain": [
       "<Figure size 640x480 with 1 Axes>"
      ]
     },
     "metadata": {},
     "output_type": "display_data"
    }
   ],
   "source": [
    "plt.figure()\n",
    "df3[['2020T1ACUM','2019T1ACUM']].plot()"
   ]
  },
  {
   "cell_type": "code",
   "execution_count": null,
   "metadata": {},
   "outputs": [],
   "source": []
  }
 ],
 "metadata": {
  "kernelspec": {
   "display_name": "Python 3 (ipykernel)",
   "language": "python",
   "name": "python3"
  },
  "language_info": {
   "codemirror_mode": {
    "name": "ipython",
    "version": 3
   },
   "file_extension": ".py",
   "mimetype": "text/x-python",
   "name": "python",
   "nbconvert_exporter": "python",
   "pygments_lexer": "ipython3",
   "version": "3.13.0"
  }
 },
 "nbformat": 4,
 "nbformat_minor": 4
}
