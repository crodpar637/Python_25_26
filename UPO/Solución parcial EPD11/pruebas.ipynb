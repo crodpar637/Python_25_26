{
 "cells": [
  {
   "cell_type": "code",
   "execution_count": 17,
   "id": "7fc3a4a7-b2bc-4df6-aded-bf95c4818928",
   "metadata": {},
   "outputs": [
    {
     "name": "stdout",
     "output_type": "stream",
     "text": [
      "Pedido de Juan Pérez: ['serranito', 'croquetas']\n",
      "Pedido de Ana Gómez: ['ensalada', 'torrija']\n",
      "Total del pedido 1: 9.25€\n",
      "Total del pedido 2: 7.25€\n"
     ]
    }
   ],
   "source": [
    "%run ./EJ1/principal.py"
   ]
  },
  {
   "cell_type": "code",
   "execution_count": 29,
   "id": "d4d8be4c-4361-4baf-98d9-06972fea5c7c",
   "metadata": {},
   "outputs": [
    {
     "name": "stdout",
     "output_type": "stream",
     "text": [
      "Inventario cargado: {'Cien años de soledad': (9.97, 11), '1984': (36.8, 19), 'El Principito': (21.37, 16), 'Don Quijote de la Mancha': (36.33, 18), 'Matar a un ruiseñor': (48.14, 5), 'Crimen y castigo': (18.51, 7), 'Orgullo y prejuicio': (26.16, 6), 'Fahrenheit 451': (46.83, 5), 'La Odisea': (23.71, 1), 'Ulises': (14.92, 7), 'El Gran Gatsby': (27.05, 1), 'En busca del tiempo perdido': (37.56, 8), 'Los miserables': (10.48, 17), 'Las aventuras de Huckleberry Finn': (5.75, 9), 'Guerra y paz': (34.72, 29), 'El viejo y el mar': (48.7, 6), 'La Ilíada': (15.42, 6), 'Los hermanos Karamázov': (15.65, 27), 'Madame Bovary': (9.59, 19)}\n",
      "Actualización de copias vendidas para 'Crimen y castigo': True\n",
      "Libros con pocas copias: ['Crimen y castigo', 'La Odisea', 'El Gran Gatsby']\n",
      "Datos guardados en la base de datos.\n"
     ]
    }
   ],
   "source": [
    "%run ./EJ2/ejercicio2.py"
   ]
  }
 ],
 "metadata": {
  "kernelspec": {
   "display_name": "Python 3 (ipykernel)",
   "language": "python",
   "name": "python3"
  },
  "language_info": {
   "codemirror_mode": {
    "name": "ipython",
    "version": 3
   },
   "file_extension": ".py",
   "mimetype": "text/x-python",
   "name": "python",
   "nbconvert_exporter": "python",
   "pygments_lexer": "ipython3",
   "version": "3.13.0"
  }
 },
 "nbformat": 4,
 "nbformat_minor": 5
}
