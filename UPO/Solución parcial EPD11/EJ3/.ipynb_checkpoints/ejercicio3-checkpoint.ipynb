{
 "cells": [
  {
   "cell_type": "markdown",
   "id": "b621f069-df14-4163-8b29-ecc7537ae307",
   "metadata": {},
   "source": [
    "### Importación de librerías"
   ]
  },
  {
   "cell_type": "code",
   "execution_count": 1,
   "id": "7253099d-955c-4ee8-af74-01e126fc2953",
   "metadata": {},
   "outputs": [],
   "source": [
    "import pandas as pd\n",
    "import matplotlib.pyplot as plt"
   ]
  },
  {
   "cell_type": "markdown",
   "id": "ea43acc7-3785-4047-91cc-c3e40870b8f6",
   "metadata": {},
   "source": [
    "### a) Cargar los datos en un DataFrame de Pandas y mostrar las primeras 10 filas"
   ]
  },
  {
   "cell_type": "code",
   "execution_count": 2,
   "id": "d5a4f121-d7e0-41b6-b005-0b6734849154",
   "metadata": {},
   "outputs": [
    {
     "data": {
      "text/html": [
       "<div>\n",
       "<style scoped>\n",
       "    .dataframe tbody tr th:only-of-type {\n",
       "        vertical-align: middle;\n",
       "    }\n",
       "\n",
       "    .dataframe tbody tr th {\n",
       "        vertical-align: top;\n",
       "    }\n",
       "\n",
       "    .dataframe thead th {\n",
       "        text-align: right;\n",
       "    }\n",
       "</style>\n",
       "<table border=\"1\" class=\"dataframe\">\n",
       "  <thead>\n",
       "    <tr style=\"text-align: right;\">\n",
       "      <th></th>\n",
       "      <th>Fecha</th>\n",
       "      <th>Ciudad</th>\n",
       "      <th>TemperaturaMax</th>\n",
       "      <th>TemperaturaMin</th>\n",
       "      <th>HoraSalidaSol</th>\n",
       "      <th>HoraPuestaSol</th>\n",
       "      <th>Lluvia_mm</th>\n",
       "      <th>VelocidadViento_kmh</th>\n",
       "      <th>DireccionViento</th>\n",
       "    </tr>\n",
       "  </thead>\n",
       "  <tbody>\n",
       "    <tr>\n",
       "      <th>0</th>\n",
       "      <td>2024-01-01</td>\n",
       "      <td>Madrid</td>\n",
       "      <td>36.4</td>\n",
       "      <td>24.7</td>\n",
       "      <td>7:51</td>\n",
       "      <td>18:30</td>\n",
       "      <td>20.7</td>\n",
       "      <td>36.4</td>\n",
       "      <td>NE</td>\n",
       "    </tr>\n",
       "    <tr>\n",
       "      <th>1</th>\n",
       "      <td>2024-01-01</td>\n",
       "      <td>Barcelona</td>\n",
       "      <td>39.7</td>\n",
       "      <td>31.2</td>\n",
       "      <td>6:01</td>\n",
       "      <td>19:18</td>\n",
       "      <td>28.6</td>\n",
       "      <td>38.2</td>\n",
       "      <td>E</td>\n",
       "    </tr>\n",
       "    <tr>\n",
       "      <th>2</th>\n",
       "      <td>2024-01-01</td>\n",
       "      <td>Valencia</td>\n",
       "      <td>16.5</td>\n",
       "      <td>4.9</td>\n",
       "      <td>6:04</td>\n",
       "      <td>19:57</td>\n",
       "      <td>4.3</td>\n",
       "      <td>48.5</td>\n",
       "      <td>S</td>\n",
       "    </tr>\n",
       "    <tr>\n",
       "      <th>3</th>\n",
       "      <td>2024-01-01</td>\n",
       "      <td>Sevilla</td>\n",
       "      <td>33.8</td>\n",
       "      <td>26.3</td>\n",
       "      <td>7:02</td>\n",
       "      <td>19:08</td>\n",
       "      <td>1.1</td>\n",
       "      <td>11.1</td>\n",
       "      <td>E</td>\n",
       "    </tr>\n",
       "    <tr>\n",
       "      <th>4</th>\n",
       "      <td>2024-01-01</td>\n",
       "      <td>Zaragoza</td>\n",
       "      <td>39.1</td>\n",
       "      <td>24.2</td>\n",
       "      <td>7:34</td>\n",
       "      <td>18:50</td>\n",
       "      <td>34.1</td>\n",
       "      <td>8.7</td>\n",
       "      <td>E</td>\n",
       "    </tr>\n",
       "    <tr>\n",
       "      <th>5</th>\n",
       "      <td>2024-01-01</td>\n",
       "      <td>Bilbao</td>\n",
       "      <td>20.9</td>\n",
       "      <td>8.9</td>\n",
       "      <td>8:23</td>\n",
       "      <td>17:56</td>\n",
       "      <td>40.8</td>\n",
       "      <td>24.2</td>\n",
       "      <td>E</td>\n",
       "    </tr>\n",
       "    <tr>\n",
       "      <th>6</th>\n",
       "      <td>2024-01-01</td>\n",
       "      <td>Granada</td>\n",
       "      <td>18.3</td>\n",
       "      <td>6.2</td>\n",
       "      <td>7:34</td>\n",
       "      <td>19:10</td>\n",
       "      <td>41.5</td>\n",
       "      <td>10.0</td>\n",
       "      <td>N</td>\n",
       "    </tr>\n",
       "    <tr>\n",
       "      <th>7</th>\n",
       "      <td>2024-01-01</td>\n",
       "      <td>Málaga</td>\n",
       "      <td>17.4</td>\n",
       "      <td>9.1</td>\n",
       "      <td>7:40</td>\n",
       "      <td>17:10</td>\n",
       "      <td>4.8</td>\n",
       "      <td>45.8</td>\n",
       "      <td>NE</td>\n",
       "    </tr>\n",
       "    <tr>\n",
       "      <th>8</th>\n",
       "      <td>2024-01-01</td>\n",
       "      <td>Alicante</td>\n",
       "      <td>30.1</td>\n",
       "      <td>19.6</td>\n",
       "      <td>7:46</td>\n",
       "      <td>18:29</td>\n",
       "      <td>44.6</td>\n",
       "      <td>10.9</td>\n",
       "      <td>E</td>\n",
       "    </tr>\n",
       "    <tr>\n",
       "      <th>9</th>\n",
       "      <td>2024-01-01</td>\n",
       "      <td>Valladolid</td>\n",
       "      <td>10.5</td>\n",
       "      <td>1.7</td>\n",
       "      <td>6:34</td>\n",
       "      <td>18:56</td>\n",
       "      <td>44.4</td>\n",
       "      <td>36.8</td>\n",
       "      <td>N</td>\n",
       "    </tr>\n",
       "  </tbody>\n",
       "</table>\n",
       "</div>"
      ],
      "text/plain": [
       "        Fecha      Ciudad  TemperaturaMax  TemperaturaMin HoraSalidaSol  \\\n",
       "0  2024-01-01      Madrid            36.4            24.7          7:51   \n",
       "1  2024-01-01   Barcelona            39.7            31.2          6:01   \n",
       "2  2024-01-01    Valencia            16.5             4.9          6:04   \n",
       "3  2024-01-01     Sevilla            33.8            26.3          7:02   \n",
       "4  2024-01-01    Zaragoza            39.1            24.2          7:34   \n",
       "5  2024-01-01      Bilbao            20.9             8.9          8:23   \n",
       "6  2024-01-01     Granada            18.3             6.2          7:34   \n",
       "7  2024-01-01      Málaga            17.4             9.1          7:40   \n",
       "8  2024-01-01    Alicante            30.1            19.6          7:46   \n",
       "9  2024-01-01  Valladolid            10.5             1.7          6:34   \n",
       "\n",
       "  HoraPuestaSol  Lluvia_mm  VelocidadViento_kmh DireccionViento  \n",
       "0         18:30       20.7                 36.4              NE  \n",
       "1         19:18       28.6                 38.2               E  \n",
       "2         19:57        4.3                 48.5               S  \n",
       "3         19:08        1.1                 11.1               E  \n",
       "4         18:50       34.1                  8.7               E  \n",
       "5         17:56       40.8                 24.2               E  \n",
       "6         19:10       41.5                 10.0               N  \n",
       "7         17:10        4.8                 45.8              NE  \n",
       "8         18:29       44.6                 10.9               E  \n",
       "9         18:56       44.4                 36.8               N  "
      ]
     },
     "execution_count": 2,
     "metadata": {},
     "output_type": "execute_result"
    }
   ],
   "source": [
    "df = pd.read_csv('./EJ3/temperaturas.csv')\n",
    "df.head(10)"
   ]
  },
  {
   "cell_type": "markdown",
   "id": "b28ba531-b0d4-4993-886f-a02105346814",
   "metadata": {},
   "source": [
    "### b) Filtrar y mostrar cuántos registros superan los 35°C de temperatura máxima por ciudad"
   ]
  },
  {
   "cell_type": "code",
   "execution_count": 3,
   "id": "2ebd2190-3024-43ce-911a-4b25df3f4a9a",
   "metadata": {},
   "outputs": [
    {
     "name": "stdout",
     "output_type": "stream",
     "text": [
      "Registros que superan los 35°C por ciudad:\n"
     ]
    },
    {
     "data": {
      "text/plain": [
       "Ciudad\n",
       "Barcelona     22\n",
       "Málaga        22\n",
       "Madrid        19\n",
       "Valencia      19\n",
       "Granada       18\n",
       "Valladolid    16\n",
       "Zaragoza      15\n",
       "Alicante      14\n",
       "Sevilla       14\n",
       "Bilbao        10\n",
       "Name: count, dtype: int64"
      ]
     },
     "execution_count": 3,
     "metadata": {},
     "output_type": "execute_result"
    }
   ],
   "source": [
    "df_filtrado = df[df['TemperaturaMax'] > 35]\n",
    "conteo_por_ciudad = df_filtrado['Ciudad'].value_counts()\n",
    "print(\"Registros que superan los 35°C por ciudad:\")\n",
    "conteo_por_ciudad\n"
   ]
  },
  {
   "cell_type": "markdown",
   "id": "56216026-edba-49fd-aac7-7a3cf6d8187f",
   "metadata": {},
   "source": [
    "### c) Calcular la media de temperaturas mínimas por ciudad y mostrarla en orden ascendente"
   ]
  },
  {
   "cell_type": "code",
   "execution_count": 4,
   "id": "1bc5c961-79c6-4534-96fd-5613517e21a1",
   "metadata": {},
   "outputs": [
    {
     "name": "stdout",
     "output_type": "stream",
     "text": [
      "Media de temperaturas mínimas por ciudad (ascendente):\n"
     ]
    },
    {
     "data": {
      "text/plain": [
       "Ciudad\n",
       "Bilbao        12.560\n",
       "Zaragoza      13.158\n",
       "Valladolid    13.845\n",
       "Alicante      14.272\n",
       "Sevilla       14.469\n",
       "Valencia      14.883\n",
       "Granada       14.948\n",
       "Málaga        15.288\n",
       "Madrid        15.311\n",
       "Barcelona     15.677\n",
       "Name: TemperaturaMin, dtype: float64"
      ]
     },
     "execution_count": 4,
     "metadata": {},
     "output_type": "execute_result"
    }
   ],
   "source": [
    "media_minimas = df.groupby('Ciudad')['TemperaturaMin'].mean().sort_values()\n",
    "print(\"Media de temperaturas mínimas por ciudad (ascendente):\")\n",
    "media_minimas"
   ]
  },
  {
   "cell_type": "markdown",
   "id": "0fb2e0d6-041d-4092-beda-7bdfdf171e76",
   "metadata": {},
   "source": [
    "### d) Generar un gráfico de barras con la temperatura media mínima por ciudad"
   ]
  },
  {
   "cell_type": "code",
   "execution_count": 5,
   "id": "0a910267-c198-4426-b3e5-8cbc2480980b",
   "metadata": {},
   "outputs": [
    {
     "data": {
      "image/png": "[encoded data removed]",
      "text/plain": [
       "<Figure size 1000x600 with 1 Axes>"
      ]
     },
     "metadata": {},
     "output_type": "display_data"
    }
   ],
   "source": [
    "media_minimas.plot(kind='bar', figsize=(10, 6), title='Temperatura Media Mínima por Ciudad')\n",
    "plt.xlabel('Ciudad')\n",
    "plt.ylabel('Temperatura Media Mínima (°C)')\n",
    "plt.show()"
   ]
  }
 ],
 "metadata": {
  "kernelspec": {
   "display_name": "Python 3 (ipykernel)",
   "language": "python",
   "name": "python3"
  },
  "language_info": {
   "codemirror_mode": {
    "name": "ipython",
    "version": 3
   },
   "file_extension": ".py",
   "mimetype": "text/x-python",
   "name": "python",
   "nbconvert_exporter": "python",
   "pygments_lexer": "ipython3",
   "version": "3.13.0"
  }
 },
 "nbformat": 4,
 "nbformat_minor": 5
}
