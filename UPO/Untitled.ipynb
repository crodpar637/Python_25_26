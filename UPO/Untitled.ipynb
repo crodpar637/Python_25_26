{
 "cells": [
  {
   "cell_type": "code",
   "execution_count": 5,
   "id": "b43f3c71-c113-41ab-bb6e-a7957b4ff869",
   "metadata": {},
   "outputs": [
    {
     "name": "stdout",
     "output_type": "stream",
     "text": [
      "Inicializando A\n",
      "Inicializando C\n",
      "Inicializando B\n",
      "Inicializando F\n",
      "Inicializando D\n",
      "(<class '__main__.D'>, <class '__main__.F'>, <class '__main__.B'>, <class '__main__.C'>, <class '__main__.A'>, <class 'object'>)\n",
      "Hola\n"
     ]
    }
   ],
   "source": [
    "%run multiple.py"
   ]
  },
  {
   "cell_type": "code",
   "execution_count": null,
   "id": "9ad5b3e1-25aa-4e7a-ad48-75acaa7240d9",
   "metadata": {},
   "outputs": [],
   "source": []
  }
 ],
 "metadata": {
  "kernelspec": {
   "display_name": "Python 3 (ipykernel)",
   "language": "python",
   "name": "python3"
  },
  "language_info": {
   "codemirror_mode": {
    "name": "ipython",
    "version": 3
   },
   "file_extension": ".py",
   "mimetype": "text/x-python",
   "name": "python",
   "nbconvert_exporter": "python",
   "pygments_lexer": "ipython3",
   "version": "3.13.0"
  }
 },
 "nbformat": 4,
 "nbformat_minor": 5
}
