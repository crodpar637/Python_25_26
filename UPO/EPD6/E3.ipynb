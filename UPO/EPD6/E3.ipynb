{
 "cells": [
  {
   "cell_type": "markdown",
   "metadata": {
    "id": "c7uaPiGXV0ec"
   },
   "source": [
    "E3. (10 min.) [Estructuras de datos: listas y tuplas] Escriba un programa que solicite los datos de movimientos de una\n",
    "cuenta bancaria. Cada movimiento estará formado por un concepto y un número que podrá ser positivo (ingresos) o\n",
    "negativo (gatos). Crear una lista de tuplas formada por los movimientos que sean ingresos y otra lista de tuplas\n",
    "formada por los movimientos que sean gastos. Mostrar por pantalla las listas creadas, junto con el total de ingresos\n",
    "y el total de gastos."
   ]
  },
  {
   "cell_type": "code",
   "execution_count": 1,
   "metadata": {
    "colab": {
     "base_uri": "https://localhost:8080/"
    },
    "executionInfo": {
     "elapsed": 30658,
     "status": "ok",
     "timestamp": 1650635300659,
     "user": {
      "displayName": "Ricardo Ragel de la Torre",
      "userId": "02500027367294390960"
     },
     "user_tz": -120
    },
    "id": "mnupTmsVVyUg",
    "outputId": "89ff0b9e-c1e4-41c3-a2fb-9a33042662c5"
   },
   "outputs": [
    {
     "name": "stdout",
     "output_type": "stream",
     "text": [
      "Introduzca los movimentos. Escriba 'fin' en el concepto para terminar\n",
      "\n",
      "Nuevo movimiento:\n"
     ]
    },
    {
     "name": "stdin",
     "output_type": "stream",
     "text": [
      "Concepto:  bar\n",
      "Cuantía:  1000\n"
     ]
    },
    {
     "name": "stdout",
     "output_type": "stream",
     "text": [
      "-----------------\n",
      "Nuevo movimiento:\n"
     ]
    },
    {
     "name": "stdin",
     "output_type": "stream",
     "text": [
      "Concepto:  pago\n",
      "Cuantía:  -1000\n"
     ]
    },
    {
     "name": "stdout",
     "output_type": "stream",
     "text": [
      "-----------------\n",
      "Nuevo movimiento:\n"
     ]
    },
    {
     "name": "stdin",
     "output_type": "stream",
     "text": [
      "Concepto:  otro\n",
      "Cuantía:  500\n"
     ]
    },
    {
     "name": "stdout",
     "output_type": "stream",
     "text": [
      "-----------------\n",
      "Nuevo movimiento:\n"
     ]
    },
    {
     "name": "stdin",
     "output_type": "stream",
     "text": [
      "Concepto:  otro gasto\n",
      "Cuantía:  -200\n"
     ]
    },
    {
     "name": "stdout",
     "output_type": "stream",
     "text": [
      "-----------------\n",
      "Nuevo movimiento:\n"
     ]
    },
    {
     "name": "stdin",
     "output_type": "stream",
     "text": [
      "Concepto:  fin\n"
     ]
    },
    {
     "name": "stdout",
     "output_type": "stream",
     "text": [
      "\n",
      "Ingresos:  [('bar', 1000.0), ('otro', 500.0)]\n",
      "Total Ingresos:  1500.0\n",
      "\n",
      "Gastos:  [('pago', -1000.0), ('otro gasto', -200.0)]\n",
      "Total Gastos:  -1200.0\n"
     ]
    }
   ],
   "source": [
    "concepto = \"\"\n",
    "ingresos = []\n",
    "gastos = []\n",
    "\n",
    "print(\"Introduzca los movimentos. Escriba 'fin' en el concepto para terminar\")\n",
    "print(\"\")\n",
    "\n",
    "while True:\n",
    "  print(\"Nuevo movimiento:\")\n",
    "  concepto = input(\"Concepto: \")\n",
    "  if concepto == \"fin\":\n",
    "    break\n",
    "  else:\n",
    "    cuantia = float(input(\"Cuantía: \"))\n",
    "    if cuantia >= 0:\n",
    "      ingresos.append((concepto, cuantia))\n",
    "    else:\n",
    "      gastos.append((concepto, cuantia))\n",
    "  print(\"-----------------\")\n",
    "\n",
    "print(\"\")\n",
    "print(\"Ingresos: \",ingresos)\n",
    "total_ingresos = 0\n",
    "for ingreso in ingresos:\n",
    "  total_ingresos += ingreso[1]\n",
    "print(\"Total Ingresos: \", total_ingresos)\n",
    "\n",
    "print(\"\")\n",
    "print(\"Gastos: \",gastos)\n",
    "total_gastos = 0\n",
    "for gasto in gastos:\n",
    "  total_gastos += gasto[1]\n",
    "print(\"Total Gastos: \", total_gastos)"
   ]
  },
  {
   "cell_type": "code",
   "execution_count": null,
   "metadata": {
    "id": "I0chMWkggHwg"
   },
   "outputs": [],
   "source": []
  }
 ],
 "metadata": {
  "colab": {
   "authorship_tag": "ABX9TyNZV29gdy+YWzd4J7bDudgo",
   "collapsed_sections": [],
   "name": "E3.ipynb",
   "provenance": []
  },
  "kernelspec": {
   "display_name": "Python 3 (ipykernel)",
   "language": "python",
   "name": "python3"
  },
  "language_info": {
   "codemirror_mode": {
    "name": "ipython",
    "version": 3
   },
   "file_extension": ".py",
   "mimetype": "text/x-python",
   "name": "python",
   "nbconvert_exporter": "python",
   "pygments_lexer": "ipython3",
   "version": "3.13.0"
  }
 },
 "nbformat": 4,
 "nbformat_minor": 4
}
