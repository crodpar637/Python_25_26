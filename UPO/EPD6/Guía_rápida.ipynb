{
 "cells": [
  {
   "cell_type": "markdown",
   "id": "f4d08686-acfb-43f4-97cf-bdee17733311",
   "metadata": {},
   "source": [
    "# Guía rápida para Jupyter Lab"
   ]
  },
  {
   "cell_type": "markdown",
   "id": "9175b451-dc98-4a09-8ec7-72eea7657f3a",
   "metadata": {},
   "source": [
    "### 1. Ejecutar celdas:\n",
    "\n",
    "- Para ejecutar una celda seleccionada, usa el botón de \"Run\" en la barra de herramientas superior o presiona **Shift + Enter**.\n",
    "- Puedes ejecutar todas las celdas seleccionando Run > Run All Cells en el menú superior o haciendo clic en el icono de la flecha hacia abajo que aparece en la parte superior del notebook."
   ]
  },
  {
   "cell_type": "markdown",
   "id": "c1b89a95-4d43-4cee-a11e-1c84a7442a9f",
   "metadata": {},
   "source": [
    "### 2. Guardar notebook: \n",
    "- Para guardar el notebook, ve al menú **File > Save and Checkpoint** o presiona **Ctrl + S**."
   ]
  },
  {
   "cell_type": "markdown",
   "id": "f52458f3-3dc9-4fd9-8434-3c1ec5dae725",
   "metadata": {},
   "source": [
    "### 3. Subir ficheros\n",
    "- Subir archivos desde la interfaz gráfica:\n",
    "  - Ve al menú de la parte superior y selecciona Upload \n",
    "    - Esto abrirá un cuadro de diálogo que te permitirá seleccionar los archivos desde tu computadora. Después de elegir los archivos, haz clic en Open para subirlos.\n",
    "    - Los archivos seleccionados aparecerán en el directorio de trabajo de Edupyter.\n",
    "- Subir archivos arrastrando (drag'n drop):\n",
    "    - También se pueden subir archivos arrastrandolos hasta el directorio de trabajo de Edupyter. Atención: funciona con ficheros, no con directorios.\n",
    "- Si se conoce la ubicación del directorio de trabajo en el disco también se pueden subir archivos copiandolos directamente utilizando el explorador de archivos del sistema operativo."
   ]
  },
  {
   "cell_type": "markdown",
   "id": "0c6e2803-818f-43b3-84db-e17e76a4386f",
   "metadata": {},
   "source": [
    "### 4. Obtener directorio de trabajo del notebok"
   ]
  },
  {
   "cell_type": "code",
   "execution_count": 1,
   "id": "56e04aea-93a0-49d3-ba22-015877cce17f",
   "metadata": {},
   "outputs": [
    {
     "name": "stdout",
     "output_type": "stream",
     "text": [
      "C:\\Users\\carlos\\AppData\\Roaming\\EDUPYTER-313-3.13.0\\IPYNB\\EPD6\n"
     ]
    }
   ],
   "source": [
    "import os\n",
    "print(os.getcwd())"
   ]
  },
  {
   "cell_type": "markdown",
   "id": "a4f03551-85dd-4238-9a44-04184d5034e3",
   "metadata": {},
   "source": [
    "### 5. Ejecutar un programa Python"
   ]
  },
  {
   "cell_type": "code",
   "execution_count": null,
   "id": "22c2d2a0-37b1-44fd-bbf4-b80205fba8f9",
   "metadata": {},
   "outputs": [],
   "source": [
    "%run EX1.py"
   ]
  },
  {
   "cell_type": "markdown",
   "id": "abcfa47d-de71-4c7c-a35e-d8e764bdeeda",
   "metadata": {},
   "source": [
    "### 6. Instalar un paquete con pip\n"
   ]
  },
  {
   "cell_type": "code",
   "execution_count": null,
   "id": "14f9892c-03f3-45d1-b02f-7d33b8ad3273",
   "metadata": {},
   "outputs": [],
   "source": [
    "!pip install seaborn"
   ]
  },
  {
   "cell_type": "markdown",
   "id": "d82cd857-dee2-4230-a5c4-9d1989d30612",
   "metadata": {},
   "source": [
    "### 7. Resumen de los menús principales:\n",
    "\n",
    "- File\n",
    "    - New: Crea un nuevo notebook, terminal, o directorio.\n",
    "    - Open: Abre un archivo o notebook existente.\n",
    "    - Save and Checkpoint: Guarda el notebook actual.\n",
    "    - Download As: Permite exportar el notebook a varios formatos (PDF, HTML, etc.).\n",
    "\n",
    "- Run\n",
    "    - Run Selected Cell: Ejecuta la celda seleccionada. (**Shift + Enter**)\n",
    "    - Run All Cells: Ejecuta todas las celdas.\n",
    "    - Run Selected Cell and Insert Below: Ejecuta la celda seleccionada y añade una nueva celda debajo de la actual. (**Alt + Enter**)\n",
    "\n",
    "- Kernel\n",
    "    - Restart Kernel...: Reinicia el núcleo del notebook.\n",
    "    - Interrupt Kernel: Detiene la ejecución del kernel."
   ]
  }
 ],
 "metadata": {
  "kernelspec": {
   "display_name": "Python 3 (ipykernel)",
   "language": "python",
   "name": "python3"
  },
  "language_info": {
   "codemirror_mode": {
    "name": "ipython",
    "version": 3
   },
   "file_extension": ".py",
   "mimetype": "text/x-python",
   "name": "python",
   "nbconvert_exporter": "python",
   "pygments_lexer": "ipython3",
   "version": "3.13.0"
  }
 },
 "nbformat": 4,
 "nbformat_minor": 5
}
