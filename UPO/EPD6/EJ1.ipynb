{
 "cells": [
  {
   "cell_type": "markdown",
   "metadata": {
    "id": "q-bhMSWSzuJX"
   },
   "source": [
    "EJ1. (20 min.) [Bases de datos] Se proporciona un fichero SQLite (“equipo.db”) conteniendo la base de datos del\n",
    "equipo de fútbol con la siguiente estructura:\n",
    "```\n",
    "CREATE TABLE jugadores\n",
    "(\n",
    "    dni TEXT PRIMARY KEY,\n",
    "    fecha_baja TEXT NULL,\n",
    "    peso INTEGER NOT NULL,\n",
    "    altura REAL NOT NULL \n",
    ")\n",
    "```"
   ]
  },
  {
   "cell_type": "markdown",
   "metadata": {
    "id": "JeYN--ny0AnS"
   },
   "source": [
    "1. Se pide realizar la función llamada peso_medio que acceda a la base de datos y devuelva la media de peso de\n",
    "los futbolistas que no estén en activo (fecha_baja IS NOT null)."
   ]
  },
  {
   "cell_type": "code",
   "execution_count": 49,
   "metadata": {
    "executionInfo": {
     "elapsed": 222,
     "status": "ok",
     "timestamp": 1650654291053,
     "user": {
      "displayName": "Ricardo Ragel de la Torre",
      "userId": "02500027367294390960"
     },
     "user_tz": -120
    },
    "id": "umMUiqnjzjmj"
   },
   "outputs": [],
   "source": [
    "import sqlite3\n",
    "from statistics import mean\n",
    "\n",
    "def peso_medio():\n",
    "  error = False\n",
    "  resultado = None\n",
    "  \n",
    "  # Connect to Database\n",
    "  try:\n",
    "    con = sqlite3.connect(\"/content/drive/MyDrive/Colab Notebooks/EPD10/equipo.db\")\n",
    "    cur = con.cursor()\n",
    "    print(\"BBDD cargada desde Google Drive\")\n",
    "  except:\n",
    "    print(\"No se encuentra la BBDD\")\n",
    "    error = True\n",
    "  \n",
    "  if not error:\n",
    "    try:\n",
    "      # Read all data\n",
    "      cur.execute(\"SELECT * FROM jugadores\")\n",
    "      con.commit()\n",
    "      rows = cur.fetchall()\n",
    "      print(\"Lectura de tabla jugadores correcta\")\n",
    "\n",
    "      # Compute\n",
    "      lista_peso = []\n",
    "      print(\"Lista jugadores retirados:\")\n",
    "      for row in rows:\n",
    "        if row[1] is not None:\n",
    "          print(row)\n",
    "          lista_peso.append(row[2])\n",
    "          resultado = mean(lista_peso)\n",
    "    \n",
    "    except sqlite3.OperationalError as error:\n",
    "      print(error)\n",
    "    \n",
    "  con.close()\n",
    "  return resultado"
   ]
  },
  {
   "cell_type": "code",
   "execution_count": 50,
   "metadata": {
    "colab": {
     "base_uri": "https://localhost:8080/"
    },
    "executionInfo": {
     "elapsed": 353,
     "status": "ok",
     "timestamp": 1650654292992,
     "user": {
      "displayName": "Ricardo Ragel de la Torre",
      "userId": "02500027367294390960"
     },
     "user_tz": -120
    },
    "id": "6pW8tXP9i0k7",
    "outputId": "f9f45fd4-5520-48b4-9e06-ed6650966353"
   },
   "outputs": [
    {
     "name": "stdout",
     "output_type": "stream",
     "text": [
      "BBDD cargada desde Google Drive\n",
      "Lectura de tabla jugadores correcta\n",
      "Lista jugadores retirados:\n",
      "('54424442F', '11/11/2017', 94, 1.9)\n",
      "('54424532F', '22/10/2010', 100, 1.9)\n",
      "('44049768Z', '22/06/2012', 68, 1.75)\n",
      "('43424343L', '22/10/2010', 72, 1.87)\n",
      "('34523543K', '12/12/2009', 83, 1.95)\n",
      "El peso medio de los jugadores retirados es: 83.4\n"
     ]
    }
   ],
   "source": [
    "# Prueba\n",
    "peso_medio_retirados = peso_medio()\n",
    "\n",
    "print(\"El peso medio de los jugadores retirados es:\", peso_medio_retirados)"
   ]
  },
  {
   "cell_type": "markdown",
   "metadata": {
    "id": "VYEAhJ2skvSY"
   },
   "source": [
    "2. Se pide realizar la función jugadores_retirados_delgados que acceda a la base de datos y genere un fichero\n",
    "de texto “jugadores.txt” que contenga una línea con el DNI de cada jugador no en activo por debajo del peso\n",
    "medio obtenido con la función del apartado anterior"
   ]
  },
  {
   "cell_type": "code",
   "execution_count": 54,
   "metadata": {
    "executionInfo": {
     "elapsed": 2,
     "status": "ok",
     "timestamp": 1650654323396,
     "user": {
      "displayName": "Ricardo Ragel de la Torre",
      "userId": "02500027367294390960"
     },
     "user_tz": -120
    },
    "id": "hXyPo3bWk0oA"
   },
   "outputs": [],
   "source": [
    "import sqlite3\n",
    "\n",
    "def jugadores_retirados_delgados():\n",
    "  \n",
    "  error = False\n",
    "  peso_medio_retirados = peso_medio()\n",
    "  \n",
    "  # Connect to Database\n",
    "  try:\n",
    "    con = sqlite3.connect(\"/content/drive/MyDrive/Colab Notebooks/EPD10/equipo.db\")\n",
    "    cur = con.cursor()\n",
    "    print(\"BBDD cargada desde Google Drive\")\n",
    "  except:\n",
    "    print(\"No se encuentra la BBDD\")\n",
    "    error = True\n",
    "  \n",
    "  if not error:\n",
    "    try:\n",
    "      # Read all data\n",
    "      cur.execute(\"SELECT * FROM jugadores\")\n",
    "      con.commit()\n",
    "      rows = cur.fetchall()\n",
    "      print(\"Lectura de tabla jugadores correcta\")\n",
    "\n",
    "      # Open file\n",
    "      file = open(\"jugadores.txt\", \"w\")      \n",
    "\n",
    "      # Compute\n",
    "      for row in rows:\n",
    "        if row[1] is not None and row[2] < peso_medio_retirados:\n",
    "          file.write(row[0] + \"\\n\")\n",
    "\n",
    "    except sqlite3.OperationalError as error:\n",
    "      print(error)\n",
    "    \n",
    "  con.close()"
   ]
  },
  {
   "cell_type": "code",
   "execution_count": 66,
   "metadata": {
    "colab": {
     "base_uri": "https://localhost:8080/"
    },
    "executionInfo": {
     "elapsed": 623,
     "status": "ok",
     "timestamp": 1650654823505,
     "user": {
      "displayName": "Ricardo Ragel de la Torre",
      "userId": "02500027367294390960"
     },
     "user_tz": -120
    },
    "id": "Lc4lUFqhqK-m",
    "outputId": "ce0d4891-137a-4d3d-9222-0ddaf4483ca5"
   },
   "outputs": [
    {
     "name": "stdout",
     "output_type": "stream",
     "text": [
      "BBDD cargada desde Google Drive\n",
      "Lectura de tabla jugadores correcta\n",
      "Lista jugadores retirados:\n",
      "('54424442F', '11/11/2017', 94, 1.9)\n",
      "('54424532F', '22/10/2010', 100, 1.9)\n",
      "('44049768Z', '22/06/2012', 68, 1.75)\n",
      "('43424343L', '22/10/2010', 72, 1.87)\n",
      "('34523543K', '12/12/2009', 83, 1.95)\n",
      "BBDD cargada desde Google Drive\n",
      "Lectura de tabla jugadores correcta\n",
      "Archivos: \n",
      "drive  jugadores.txt  sample_data\n",
      "Contenido jugadores.txt: \n",
      "44049768Z\n",
      "43424343L\n",
      "34523543K\n"
     ]
    }
   ],
   "source": [
    "# Prueba\n",
    "jugadores_retirados_delgados()\n",
    "\n",
    "# [NO PYTHON] Llamada a la shell para leer el archivo\n",
    "! echo \"Archivos: \"\n",
    "! ls\n",
    "! echo \"Contenido jugadores.txt: \"\n",
    "! cat jugadores.txt"
   ]
  },
  {
   "cell_type": "markdown",
   "metadata": {
    "id": "mM_OCPCFq6-w"
   },
   "source": [
    "3. Se pide realizar un programa principal que invoque las dos funciones anteriores a modo de demostración."
   ]
  },
  {
   "cell_type": "code",
   "execution_count": 64,
   "metadata": {
    "colab": {
     "base_uri": "https://localhost:8080/"
    },
    "executionInfo": {
     "elapsed": 227,
     "status": "ok",
     "timestamp": 1650654783466,
     "user": {
      "displayName": "Ricardo Ragel de la Torre",
      "userId": "02500027367294390960"
     },
     "user_tz": -120
    },
    "id": "gDFS_kDSq7wB",
    "outputId": "43446e1b-49bb-4bcd-c85d-87eba08594fb"
   },
   "outputs": [
    {
     "name": "stdout",
     "output_type": "stream",
     "text": [
      "Probando peso_medio():\n",
      "BBDD cargada desde Google Drive\n",
      "Lectura de tabla jugadores correcta\n",
      "Lista jugadores retirados:\n",
      "('54424442F', '11/11/2017', 94, 1.9)\n",
      "('54424532F', '22/10/2010', 100, 1.9)\n",
      "('44049768Z', '22/06/2012', 68, 1.75)\n",
      "('43424343L', '22/10/2010', 72, 1.87)\n",
      "('34523543K', '12/12/2009', 83, 1.95)\n",
      "El peso medio de los jugadores retirados es: 83.4\n",
      "\n",
      "Probando jugadores_retirados_delgados():\n",
      "BBDD cargada desde Google Drive\n",
      "Lectura de tabla jugadores correcta\n",
      "Lista jugadores retirados:\n",
      "('54424442F', '11/11/2017', 94, 1.9)\n",
      "('54424532F', '22/10/2010', 100, 1.9)\n",
      "('44049768Z', '22/06/2012', 68, 1.75)\n",
      "('43424343L', '22/10/2010', 72, 1.87)\n",
      "('34523543K', '12/12/2009', 83, 1.95)\n",
      "BBDD cargada desde Google Drive\n",
      "Lectura de tabla jugadores correcta\n"
     ]
    }
   ],
   "source": [
    "# Supongamos que este notebook fuera un script the python, \n",
    "if __name__ == \"__main__\":\n",
    "  \n",
    "  print(\"Probando peso_medio():\")\n",
    "  peso_medio_retirados = peso_medio()\n",
    "  print(\"El peso medio de los jugadores retirados es:\", peso_medio_retirados)\n",
    "  print(\"\")\n",
    "\n",
    "  print(\"Probando jugadores_retirados_delgados():\")\n",
    "  jugadores_retirados_delgados()"
   ]
  }
 ],
 "metadata": {
  "colab": {
   "authorship_tag": "ABX9TyPdQkSNumCPYNiOkgaaB6Qp",
   "collapsed_sections": [],
   "mount_file_id": "1Fyem_yvgWRJ4doFnKw3k4pU9xRQpBSD-",
   "name": "EJ1.ipynb",
   "provenance": []
  },
  "kernelspec": {
   "display_name": "Python 3 (ipykernel)",
   "language": "python",
   "name": "python3"
  },
  "language_info": {
   "codemirror_mode": {
    "name": "ipython",
    "version": 3
   },
   "file_extension": ".py",
   "mimetype": "text/x-python",
   "name": "python",
   "nbconvert_exporter": "python",
   "pygments_lexer": "ipython3",
   "version": "3.13.0"
  }
 },
 "nbformat": 4,
 "nbformat_minor": 4
}
