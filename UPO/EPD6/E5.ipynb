{
 "cells": [
  {
   "cell_type": "markdown",
   "metadata": {
    "id": "PLIk-izfnwYZ"
   },
   "source": [
    "E5. (15 min.) [Ficheros] Escriba un programa que pida al usuario el nombre de un fichero de texto. El fichero de texto\n",
    "contendrá números reales separados por el carácter punto y coma, pudiendo tener varias líneas con este formato.\n",
    "Como resultado de procesar el fichero se mostrarán por pantalla los siguientes valores:\n",
    "− Valor máximo\n",
    "− Valor mínimo\n",
    "− Suma de todos los valores\n",
    "− Media de todos los valores"
   ]
  },
  {
   "cell_type": "code",
   "execution_count": 42,
   "metadata": {
    "colab": {
     "base_uri": "https://localhost:8080/"
    },
    "executionInfo": {
     "elapsed": 32213,
     "status": "ok",
     "timestamp": 1650639796419,
     "user": {
      "displayName": "Ricardo Ragel de la Torre",
      "userId": "02500027367294390960"
     },
     "user_tz": -120
    },
    "id": "AQlZYpDTntf4",
    "outputId": "984736a5-e7f3-4c03-8d46-44288b4b46af"
   },
   "outputs": [
    {
     "name": "stdout",
     "output_type": "stream",
     "text": [
      "Introduca el nombre del fichero: test2.txt\n",
      "Introduzca un nuevo numero: 22\n",
      "Introduzca un nuevo numero: -33\n",
      "Introduzca un nuevo numero: 44\n",
      "Introduzca un nuevo numero: -91\n",
      "Introduzca un nuevo numero: \n",
      "Introduzca un nuevo numero: 456\n",
      "Introduzca un nuevo numero: -1001\n",
      "Introduzca un nuevo numero: fin\n"
     ]
    }
   ],
   "source": [
    "# Primero vamos a crear un fichero para probar la resolución del ejercicio:\n",
    "nombre_fichero = input(\"Introduca el nombre del fichero: \")\n",
    "fichero = open(nombre_fichero, \"w\")\n",
    "\n",
    "user_input = \"\"\n",
    "while user_input != \"fin\":\n",
    "  user_input = input(\"Introduzca un nuevo numero: \")\n",
    "  if user_input == \"fin\":\n",
    "    break\n",
    "  else:\n",
    "    if len(user_input) == 0:\n",
    "      fichero.write(\"\\n\")\n",
    "    else:  \n",
    "      fichero.write(user_input + \";\")\n",
    "fichero.close()"
   ]
  },
  {
   "cell_type": "code",
   "execution_count": 43,
   "metadata": {
    "colab": {
     "base_uri": "https://localhost:8080/"
    },
    "executionInfo": {
     "elapsed": 6424,
     "status": "ok",
     "timestamp": 1650639805524,
     "user": {
      "displayName": "Ricardo Ragel de la Torre",
      "userId": "02500027367294390960"
     },
     "user_tz": -120
    },
    "id": "i-9JkhFQrPAn",
    "outputId": "66d7c7a3-892a-42b1-b13a-e1f43ab8ad6f"
   },
   "outputs": [
    {
     "name": "stdout",
     "output_type": "stream",
     "text": [
      "Introduca el nombre del fichero: test2.txt\n",
      "[22.0, -33.0, 44.0, -91.0, 456.0, -1001.0]\n",
      "- Valor máximo:  456.0\n",
      "- Valor mínimo:  -1001.0\n",
      "- Suma:  -603.0\n",
      "- Media:  -100.5\n"
     ]
    }
   ],
   "source": [
    "# Ahora hacemos los que nos pide el ejercicio\n",
    "nombre_fichero = input(\"Introduca el nombre del fichero: \")\n",
    "fichero = open(nombre_fichero, \"r\")\n",
    "\n",
    "valores = []\n",
    "for line in fichero:\n",
    "  line = line.rstrip() # remove new lines\n",
    "  line = line.rstrip(\";\") # remove \";\" at the end if it exists\n",
    "  for valor in line.split(\";\"):\n",
    "    valores.append(float(valor))\n",
    "\n",
    "print(valores)\n",
    "\n",
    "print(\"- Valor máximo: \", max(valores))\n",
    "print(\"- Valor mínimo: \", min(valores))\n",
    "print(\"- Suma: \", sum(valores))\n",
    "\n",
    "from statistics import mean\n",
    "print(\"- Media: \", mean(valores))\n",
    "\n",
    "fichero.close()"
   ]
  }
 ],
 "metadata": {
  "colab": {
   "authorship_tag": "ABX9TyOEsGfxCaZKzBEFxWCXLFUh",
   "collapsed_sections": [],
   "mount_file_id": "1iu9iN9HjHhDbPnJ6qHM1zneEMA0slOcu",
   "name": "E5.ipynb",
   "provenance": []
  },
  "kernelspec": {
   "display_name": "Python 3 (ipykernel)",
   "language": "python",
   "name": "python3"
  },
  "language_info": {
   "codemirror_mode": {
    "name": "ipython",
    "version": 3
   },
   "file_extension": ".py",
   "mimetype": "text/x-python",
   "name": "python",
   "nbconvert_exporter": "python",
   "pygments_lexer": "ipython3",
   "version": "3.13.0"
  }
 },
 "nbformat": 4,
 "nbformat_minor": 4
}
