{
 "cells": [
  {
   "cell_type": "markdown",
   "id": "f4d08686-acfb-43f4-97cf-bdee17733311",
   "metadata": {},
   "source": [
    "# Guía rápida para Jupyter Lab"
   ]
  },
  {
   "cell_type": "markdown",
   "id": "9175b451-dc98-4a09-8ec7-72eea7657f3a",
   "metadata": {},
   "source": [
    "### Ejecutar celdas:\n",
    "\n",
    "- Para ejecutar una celda seleccionada, usa el botón de \"Run\" en la barra de herramientas superior o presiona Shift + Enter.\n",
    "- Puedes ejecutar todas las celdas seleccionando Cell > Run All en el menú superior o haciendo clic en el icono de la flecha hacia abajo que aparece en la parte superior del notebook."
   ]
  },
  {
   "cell_type": "markdown",
   "id": "c1b89a95-4d43-4cee-a11e-1c84a7442a9f",
   "metadata": {},
   "source": [
    "### Guardar notebook: \n",
    "- Para guardar el notebook, ve al menú **File > Save and Checkpoint** o presiona **Ctrl + S**."
   ]
  },
  {
   "cell_type": "markdown",
   "id": "0c6e2803-818f-43b3-84db-e17e76a4386f",
   "metadata": {},
   "source": [
    "### Obtener directorio de trabajo del notebok"
   ]
  },
  {
   "cell_type": "code",
   "execution_count": null,
   "id": "56e04aea-93a0-49d3-ba22-015877cce17f",
   "metadata": {},
   "outputs": [],
   "source": [
    "import os\n",
    "print(os.getcwd())"
   ]
  },
  {
   "cell_type": "markdown",
   "id": "a4f03551-85dd-4238-9a44-04184d5034e3",
   "metadata": {},
   "source": [
    "### Ejecutar un programa Python"
   ]
  },
  {
   "cell_type": "code",
   "execution_count": 2,
   "id": "22c2d2a0-37b1-44fd-bbf4-b80205fba8f9",
   "metadata": {},
   "outputs": [
    {
     "name": "stdout",
     "output_type": "stream",
     "text": [
      "Solucion 1:  -2.0\n",
      "Solucion 2:  -4.0\n",
      "Solución:  2.0\n",
      "No tiene solución\n"
     ]
    }
   ],
   "source": [
    "%run EX1.py"
   ]
  },
  {
   "cell_type": "markdown",
   "id": "abcfa47d-de71-4c7c-a35e-d8e764bdeeda",
   "metadata": {},
   "source": [
    "### Instalar un paquete con pip\n"
   ]
  },
  {
   "cell_type": "code",
   "execution_count": 5,
   "id": "14f9892c-03f3-45d1-b02f-7d33b8ad3273",
   "metadata": {},
   "outputs": [
    {
     "name": "stdout",
     "output_type": "stream",
     "text": [
      "Collecting seaborn\n",
      "  Downloading seaborn-0.13.2-py3-none-any.whl.metadata (5.4 kB)\n",
      "Requirement already satisfied: numpy!=1.24.0,>=1.20 in c:\\users\\carlos\\appdata\\roaming\\edupyter-313-3.13.0\\apps\\lib\\site-packages (from seaborn) (2.1.3)\n",
      "Requirement already satisfied: pandas>=1.2 in c:\\users\\carlos\\appdata\\roaming\\edupyter-313-3.13.0\\apps\\lib\\site-packages (from seaborn) (2.2.3)\n",
      "Requirement already satisfied: matplotlib!=3.6.1,>=3.4 in c:\\users\\carlos\\appdata\\roaming\\edupyter-313-3.13.0\\apps\\lib\\site-packages (from seaborn) (3.9.2)\n",
      "Requirement already satisfied: contourpy>=1.0.1 in c:\\users\\carlos\\appdata\\roaming\\edupyter-313-3.13.0\\apps\\lib\\site-packages (from matplotlib!=3.6.1,>=3.4->seaborn) (1.3.1)\n",
      "Requirement already satisfied: cycler>=0.10 in c:\\users\\carlos\\appdata\\roaming\\edupyter-313-3.13.0\\apps\\lib\\site-packages (from matplotlib!=3.6.1,>=3.4->seaborn) (0.12.1)\n",
      "Requirement already satisfied: fonttools>=4.22.0 in c:\\users\\carlos\\appdata\\roaming\\edupyter-313-3.13.0\\apps\\lib\\site-packages (from matplotlib!=3.6.1,>=3.4->seaborn) (4.55.0)\n",
      "Requirement already satisfied: kiwisolver>=1.3.1 in c:\\users\\carlos\\appdata\\roaming\\edupyter-313-3.13.0\\apps\\lib\\site-packages (from matplotlib!=3.6.1,>=3.4->seaborn) (1.4.7)\n",
      "Requirement already satisfied: packaging>=20.0 in c:\\users\\carlos\\appdata\\roaming\\edupyter-313-3.13.0\\apps\\lib\\site-packages (from matplotlib!=3.6.1,>=3.4->seaborn) (24.2)\n",
      "Requirement already satisfied: pillow>=8 in c:\\users\\carlos\\appdata\\roaming\\edupyter-313-3.13.0\\apps\\lib\\site-packages (from matplotlib!=3.6.1,>=3.4->seaborn) (11.0.0)\n",
      "Requirement already satisfied: pyparsing>=2.3.1 in c:\\users\\carlos\\appdata\\roaming\\edupyter-313-3.13.0\\apps\\lib\\site-packages (from matplotlib!=3.6.1,>=3.4->seaborn) (3.2.0)\n",
      "Requirement already satisfied: python-dateutil>=2.7 in c:\\users\\carlos\\appdata\\roaming\\edupyter-313-3.13.0\\apps\\lib\\site-packages (from matplotlib!=3.6.1,>=3.4->seaborn) (2.9.0.post0)\n",
      "Requirement already satisfied: pytz>=2020.1 in c:\\users\\carlos\\appdata\\roaming\\edupyter-313-3.13.0\\apps\\lib\\site-packages (from pandas>=1.2->seaborn) (2024.2)\n",
      "Requirement already satisfied: tzdata>=2022.7 in c:\\users\\carlos\\appdata\\roaming\\edupyter-313-3.13.0\\apps\\lib\\site-packages (from pandas>=1.2->seaborn) (2024.2)\n",
      "Requirement already satisfied: six>=1.5 in c:\\users\\carlos\\appdata\\roaming\\edupyter-313-3.13.0\\apps\\lib\\site-packages (from python-dateutil>=2.7->matplotlib!=3.6.1,>=3.4->seaborn) (1.16.0)\n",
      "Downloading seaborn-0.13.2-py3-none-any.whl (294 kB)\n",
      "Installing collected packages: seaborn\n",
      "Successfully installed seaborn-0.13.2\n"
     ]
    },
    {
     "name": "stderr",
     "output_type": "stream",
     "text": [
      "\n",
      "[notice] A new release of pip is available: 24.3.1 -> 25.0.1\n",
      "[notice] To update, run: python.exe -m pip install --upgrade pip\n"
     ]
    }
   ],
   "source": [
    "!pip install seaborn"
   ]
  }
 ],
 "metadata": {
  "kernelspec": {
   "display_name": "Python 3 (ipykernel)",
   "language": "python",
   "name": "python3"
  },
  "language_info": {
   "codemirror_mode": {
    "name": "ipython",
    "version": 3
   },
   "file_extension": ".py",
   "mimetype": "text/x-python",
   "name": "python",
   "nbconvert_exporter": "python",
   "pygments_lexer": "ipython3",
   "version": "3.13.0"
  }
 },
 "nbformat": 4,
 "nbformat_minor": 5
}
