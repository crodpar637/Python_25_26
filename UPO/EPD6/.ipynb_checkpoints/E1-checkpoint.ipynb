{
 "cells": [
  {
   "cell_type": "markdown",
   "metadata": {
    "id": "56gM-igHOIN2"
   },
   "source": [
    "E1. (10 min.) [Estructura de control condicional] Escriba un programa que resuelva la ecuación cuadrática (a x 2 +\n",
    "b x + c =0) mostrando sus soluciones o indicando que no tiene solución cuando así sea."
   ]
  },
  {
   "cell_type": "code",
   "execution_count": 1,
   "metadata": {
    "executionInfo": {
     "elapsed": 382,
     "status": "ok",
     "timestamp": 1650630938026,
     "user": {
      "displayName": "Ricardo Ragel de la Torre",
      "userId": "02500027367294390960"
     },
     "user_tz": -120
    },
    "id": "JUkwR3IvOJy7"
   },
   "outputs": [],
   "source": [
    "from math import sqrt\n",
    "def solve(a, b, c):\n",
    "    # Comprobamos si la solución no existe\n",
    "    discriminante = b*b - 4*a*c\n",
    "    if discriminante > 0:\n",
    "      sol1 = (- b + sqrt(discriminante)) / (2*a)\n",
    "      sol2 = (- b - sqrt(discriminante)) / (2*a)\n",
    "      print(\"Solucion 1: \", sol1)\n",
    "      print(\"Solucion 2: \", sol2)\n",
    "    elif discriminante == 0:\n",
    "      sol = (- b) / (2*a)\n",
    "      print(\"Solución: \", sol)\n",
    "    else:\n",
    "      print(\"No tiene solución\")"
   ]
  },
  {
   "cell_type": "markdown",
   "metadata": {
    "id": "YBI2PE06Q1-1"
   },
   "source": [
    "Test it:"
   ]
  },
  {
   "cell_type": "code",
   "execution_count": 2,
   "metadata": {
    "colab": {
     "base_uri": "https://localhost:8080/"
    },
    "executionInfo": {
     "elapsed": 421,
     "status": "ok",
     "timestamp": 1650630994261,
     "user": {
      "displayName": "Ricardo Ragel de la Torre",
      "userId": "02500027367294390960"
     },
     "user_tz": -120
    },
    "id": "6x5CHIpuQ5N8",
    "outputId": "4a383f91-a6bb-4adc-dff0-22a4ccef8c8d"
   },
   "outputs": [
    {
     "name": "stdout",
     "output_type": "stream",
     "text": [
      "Solucion 1:  -2.0\n",
      "Solucion 2:  -4.0\n"
     ]
    }
   ],
   "source": [
    "solve(1, 6, 8)"
   ]
  },
  {
   "cell_type": "code",
   "execution_count": 3,
   "metadata": {
    "colab": {
     "base_uri": "https://localhost:8080/"
    },
    "executionInfo": {
     "elapsed": 14,
     "status": "ok",
     "timestamp": 1650630995864,
     "user": {
      "displayName": "Ricardo Ragel de la Torre",
      "userId": "02500027367294390960"
     },
     "user_tz": -120
    },
    "id": "hZqPkg6WRWc8",
    "outputId": "c440a027-16f3-4120-f4e7-95b7faf3e6d2"
   },
   "outputs": [
    {
     "name": "stdout",
     "output_type": "stream",
     "text": [
      "Solución:  2.0\n"
     ]
    }
   ],
   "source": [
    "solve(1, -4, 4)"
   ]
  },
  {
   "cell_type": "code",
   "execution_count": 4,
   "metadata": {
    "colab": {
     "base_uri": "https://localhost:8080/"
    },
    "executionInfo": {
     "elapsed": 8,
     "status": "ok",
     "timestamp": 1650630997412,
     "user": {
      "displayName": "Ricardo Ragel de la Torre",
      "userId": "02500027367294390960"
     },
     "user_tz": -120
    },
    "id": "Zlh3xPSoRa97",
    "outputId": "276c42d1-c71a-4f17-c68a-e01cadb08123"
   },
   "outputs": [
    {
     "name": "stdout",
     "output_type": "stream",
     "text": [
      "No tiene solución\n"
     ]
    }
   ],
   "source": [
    "solve(2, 2, 2)"
   ]
  },
  {
   "cell_type": "code",
   "execution_count": null,
   "metadata": {},
   "outputs": [],
   "source": []
  }
 ],
 "metadata": {
  "colab": {
   "authorship_tag": "ABX9TyN5KFde5RciBiDY8CnljZkW",
   "collapsed_sections": [],
   "name": "E1.ipynb",
   "provenance": []
  },
  "kernelspec": {
   "display_name": "Python 3 (ipykernel)",
   "language": "python",
   "name": "python3"
  },
  "language_info": {
   "codemirror_mode": {
    "name": "ipython",
    "version": 3
   },
   "file_extension": ".py",
   "mimetype": "text/x-python",
   "name": "python",
   "nbconvert_exporter": "python",
   "pygments_lexer": "ipython3",
   "version": "3.13.0"
  }
 },
 "nbformat": 4,
 "nbformat_minor": 4
}
