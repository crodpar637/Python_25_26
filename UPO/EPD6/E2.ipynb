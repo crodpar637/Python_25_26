{
 "cells": [
  {
   "cell_type": "markdown",
   "metadata": {
    "id": "Jxk1VR5vRsI0"
   },
   "source": [
    "E2. (10 min.) [Estructura de control repetitiva] Escriba un programa que calcule y muestre por pantalla la suma de\n",
    "la serie 1/1 + ½ + 1/3 + ... + 1/(n-1) + 1/n. El valor n será introducido por el usuario del programa."
   ]
  },
  {
   "cell_type": "code",
   "execution_count": 11,
   "metadata": {
    "colab": {
     "base_uri": "https://localhost:8080/"
    },
    "executionInfo": {
     "elapsed": 341108,
     "status": "ok",
     "timestamp": 1650632013449,
     "user": {
      "displayName": "Ricardo Ragel de la Torre",
      "userId": "02500027367294390960"
     },
     "user_tz": -120
    },
    "id": "QVrrhg5DRqa9",
    "outputId": "9e464d32-1e5f-4881-f6fd-efefea578208"
   },
   "outputs": [
    {
     "name": "stdout",
     "output_type": "stream",
     "text": [
      "Valor de n: 3\n",
      "i:  1\n",
      "val:  1.0\n",
      "i:  2\n",
      "val:  1.5\n",
      "i:  3\n",
      "val:  1.8333333333333333\n",
      "Resultado de la serie:  1.8333333333333333\n"
     ]
    }
   ],
   "source": [
    "n = int(input(\"Valor de n: \"))\n",
    "\n",
    "if(n<=0):\n",
    "  print(\"El valor de n debe ser mayor que 0\")\n",
    "else:\n",
    "  val = 0.0\n",
    "  for i in range(1, n+1):\n",
    "    print(\"i: \",i)\n",
    "    val += 1.0/i\n",
    "    print(\"val: \",val)\n",
    "  print(\"Resultado de la serie: \", val)\n"
   ]
  }
 ],
 "metadata": {
  "colab": {
   "authorship_tag": "ABX9TyPi0Eyd12fQDa6aebo7m02c",
   "collapsed_sections": [],
   "name": "E2.ipynb",
   "provenance": []
  },
  "kernelspec": {
   "display_name": "Python 3 (ipykernel)",
   "language": "python",
   "name": "python3"
  },
  "language_info": {
   "codemirror_mode": {
    "name": "ipython",
    "version": 3
   },
   "file_extension": ".py",
   "mimetype": "text/x-python",
   "name": "python",
   "nbconvert_exporter": "python",
   "pygments_lexer": "ipython3",
   "version": "3.13.0"
  }
 },
 "nbformat": 4,
 "nbformat_minor": 4
}
