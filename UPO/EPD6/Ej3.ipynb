{
 "cells": [
  {
   "cell_type": "markdown",
   "metadata": {
    "id": "ber8e3u0Mv7d"
   },
   "source": [
    "EJ3. (20 min.) [Pandas y Matplotlib] Utilice para este ejercicio el conjunto de datos en formato CSV “felicidadmundial-2020.csv” que se puede descargar desde el aula virtual.\n",
    " Escriba un programa que haga las siguientes operaciones con el anterior conjunto de datos:"
   ]
  },
  {
   "cell_type": "markdown",
   "metadata": {
    "id": "BzC-RHADM3Q-"
   },
   "source": [
    "1. Cargue en un dataframe de pandas todos los datos. "
   ]
  },
  {
   "cell_type": "code",
   "execution_count": 1,
   "metadata": {
    "colab": {
     "base_uri": "https://localhost:8080/",
     "height": 409
    },
    "executionInfo": {
     "elapsed": 231,
     "status": "ok",
     "timestamp": 1650713896905,
     "user": {
      "displayName": "Ricardo Ragel de la Torre",
      "userId": "02500027367294390960"
     },
     "user_tz": -120
    },
    "id": "57fNMuRzM1CH",
    "outputId": "2b6b833f-279c-495a-baaf-c503bb0db0af"
   },
   "outputs": [
    {
     "data": {
      "text/html": [
       "<div>\n",
       "<style scoped>\n",
       "    .dataframe tbody tr th:only-of-type {\n",
       "        vertical-align: middle;\n",
       "    }\n",
       "\n",
       "    .dataframe tbody tr th {\n",
       "        vertical-align: top;\n",
       "    }\n",
       "\n",
       "    .dataframe thead th {\n",
       "        text-align: right;\n",
       "    }\n",
       "</style>\n",
       "<table border=\"1\" class=\"dataframe\">\n",
       "  <thead>\n",
       "    <tr style=\"text-align: right;\">\n",
       "      <th></th>\n",
       "      <th>Country name</th>\n",
       "      <th>Regional indicator</th>\n",
       "      <th>Ladder score</th>\n",
       "      <th>Standard error of ladder score</th>\n",
       "      <th>upperwhisker</th>\n",
       "      <th>lowerwhisker</th>\n",
       "      <th>Logged GDP per capita</th>\n",
       "      <th>Social support</th>\n",
       "      <th>Healthy life expectancy</th>\n",
       "      <th>Freedom to make life choices</th>\n",
       "      <th>Generosity</th>\n",
       "      <th>Perceptions of corruption</th>\n",
       "    </tr>\n",
       "  </thead>\n",
       "  <tbody>\n",
       "    <tr>\n",
       "      <th>0</th>\n",
       "      <td>Finland</td>\n",
       "      <td>Western Europe</td>\n",
       "      <td>7.842</td>\n",
       "      <td>0.032</td>\n",
       "      <td>7.904</td>\n",
       "      <td>7.780</td>\n",
       "      <td>10.775</td>\n",
       "      <td>0.954</td>\n",
       "      <td>72.0</td>\n",
       "      <td>0.949</td>\n",
       "      <td>-0.098</td>\n",
       "      <td>0.186</td>\n",
       "    </tr>\n",
       "    <tr>\n",
       "      <th>1</th>\n",
       "      <td>Denmark</td>\n",
       "      <td>Western Europe</td>\n",
       "      <td>7.620</td>\n",
       "      <td>0.035</td>\n",
       "      <td>7.687</td>\n",
       "      <td>7.552</td>\n",
       "      <td>10.933</td>\n",
       "      <td>0.954</td>\n",
       "      <td>72.7</td>\n",
       "      <td>0.946</td>\n",
       "      <td>0.030</td>\n",
       "      <td>0.179</td>\n",
       "    </tr>\n",
       "    <tr>\n",
       "      <th>2</th>\n",
       "      <td>Switzerland</td>\n",
       "      <td>Western Europe</td>\n",
       "      <td>7.571</td>\n",
       "      <td>0.036</td>\n",
       "      <td>7.643</td>\n",
       "      <td>7.500</td>\n",
       "      <td>11.117</td>\n",
       "      <td>0.942</td>\n",
       "      <td>74.4</td>\n",
       "      <td>0.919</td>\n",
       "      <td>0.025</td>\n",
       "      <td>0.292</td>\n",
       "    </tr>\n",
       "    <tr>\n",
       "      <th>3</th>\n",
       "      <td>Iceland</td>\n",
       "      <td>Western Europe</td>\n",
       "      <td>7.554</td>\n",
       "      <td>0.059</td>\n",
       "      <td>7.670</td>\n",
       "      <td>7.438</td>\n",
       "      <td>10.878</td>\n",
       "      <td>0.983</td>\n",
       "      <td>73.0</td>\n",
       "      <td>0.955</td>\n",
       "      <td>0.160</td>\n",
       "      <td>0.673</td>\n",
       "    </tr>\n",
       "    <tr>\n",
       "      <th>4</th>\n",
       "      <td>Netherlands</td>\n",
       "      <td>Western Europe</td>\n",
       "      <td>7.464</td>\n",
       "      <td>0.027</td>\n",
       "      <td>7.518</td>\n",
       "      <td>7.410</td>\n",
       "      <td>10.932</td>\n",
       "      <td>0.942</td>\n",
       "      <td>72.4</td>\n",
       "      <td>0.913</td>\n",
       "      <td>0.175</td>\n",
       "      <td>0.338</td>\n",
       "    </tr>\n",
       "  </tbody>\n",
       "</table>\n",
       "</div>"
      ],
      "text/plain": [
       "  Country name Regional indicator  Ladder score  \\\n",
       "0      Finland     Western Europe         7.842   \n",
       "1      Denmark     Western Europe         7.620   \n",
       "2  Switzerland     Western Europe         7.571   \n",
       "3      Iceland     Western Europe         7.554   \n",
       "4  Netherlands     Western Europe         7.464   \n",
       "\n",
       "   Standard error of ladder score  upperwhisker  lowerwhisker  \\\n",
       "0                           0.032         7.904         7.780   \n",
       "1                           0.035         7.687         7.552   \n",
       "2                           0.036         7.643         7.500   \n",
       "3                           0.059         7.670         7.438   \n",
       "4                           0.027         7.518         7.410   \n",
       "\n",
       "   Logged GDP per capita  Social support  Healthy life expectancy  \\\n",
       "0                 10.775           0.954                     72.0   \n",
       "1                 10.933           0.954                     72.7   \n",
       "2                 11.117           0.942                     74.4   \n",
       "3                 10.878           0.983                     73.0   \n",
       "4                 10.932           0.942                     72.4   \n",
       "\n",
       "   Freedom to make life choices  Generosity  Perceptions of corruption  \n",
       "0                         0.949      -0.098                      0.186  \n",
       "1                         0.946       0.030                      0.179  \n",
       "2                         0.919       0.025                      0.292  \n",
       "3                         0.955       0.160                      0.673  \n",
       "4                         0.913       0.175                      0.338  "
      ]
     },
     "execution_count": 1,
     "metadata": {},
     "output_type": "execute_result"
    }
   ],
   "source": [
    "import pandas as pd\n",
    "df = pd.read_csv(\"felicidad-mundial-2020.csv\", delimiter=\";\")\n",
    "df.head()"
   ]
  },
  {
   "cell_type": "markdown",
   "metadata": {
    "id": "8CquUZmqN4uq"
   },
   "source": [
    "2. Muestre los nombres (Country name) y la esperanza de vida con salud (Healthy life expectancy) de los cinco\n",
    "países donde las personas tienen una menor esperanza de vida con salud (Healthy life expectancy)."
   ]
  },
  {
   "cell_type": "code",
   "execution_count": 2,
   "metadata": {
    "colab": {
     "base_uri": "https://localhost:8080/",
     "height": 206
    },
    "executionInfo": {
     "elapsed": 3,
     "status": "ok",
     "timestamp": 1650714299182,
     "user": {
      "displayName": "Ricardo Ragel de la Torre",
      "userId": "02500027367294390960"
     },
     "user_tz": -120
    },
    "id": "5dGEh6tsNP9P",
    "outputId": "9d2ca6b2-8afb-48d2-9088-ff5cbd0067fe"
   },
   "outputs": [
    {
     "data": {
      "text/html": [
       "<div>\n",
       "<style scoped>\n",
       "    .dataframe tbody tr th:only-of-type {\n",
       "        vertical-align: middle;\n",
       "    }\n",
       "\n",
       "    .dataframe tbody tr th {\n",
       "        vertical-align: top;\n",
       "    }\n",
       "\n",
       "    .dataframe thead th {\n",
       "        text-align: right;\n",
       "    }\n",
       "</style>\n",
       "<table border=\"1\" class=\"dataframe\">\n",
       "  <thead>\n",
       "    <tr style=\"text-align: right;\">\n",
       "      <th></th>\n",
       "      <th>Country name</th>\n",
       "      <th>Healthy life expectancy</th>\n",
       "    </tr>\n",
       "  </thead>\n",
       "  <tbody>\n",
       "    <tr>\n",
       "      <th>127</th>\n",
       "      <td>Chad</td>\n",
       "      <td>48.478</td>\n",
       "    </tr>\n",
       "    <tr>\n",
       "      <th>144</th>\n",
       "      <td>Lesotho</td>\n",
       "      <td>48.700</td>\n",
       "    </tr>\n",
       "    <tr>\n",
       "      <th>115</th>\n",
       "      <td>Nigeria</td>\n",
       "      <td>50.102</td>\n",
       "    </tr>\n",
       "    <tr>\n",
       "      <th>84</th>\n",
       "      <td>Ivory Coast</td>\n",
       "      <td>50.114</td>\n",
       "    </tr>\n",
       "    <tr>\n",
       "      <th>129</th>\n",
       "      <td>Swaziland</td>\n",
       "      <td>50.833</td>\n",
       "    </tr>\n",
       "  </tbody>\n",
       "</table>\n",
       "</div>"
      ],
      "text/plain": [
       "    Country name  Healthy life expectancy\n",
       "127         Chad                   48.478\n",
       "144      Lesotho                   48.700\n",
       "115      Nigeria                   50.102\n",
       "84   Ivory Coast                   50.114\n",
       "129    Swaziland                   50.833"
      ]
     },
     "execution_count": 2,
     "metadata": {},
     "output_type": "execute_result"
    }
   ],
   "source": [
    "# Me quedo solo con las columnas que nos interesan\n",
    "df2 = df[['Country name', 'Healthy life expectancy']]\n",
    "# Los ordeno de menor a mayor\n",
    "df2_sorted = df2.sort_values('Healthy life expectancy')\n",
    "df2_sorted.head(5)"
   ]
  },
  {
   "cell_type": "markdown",
   "metadata": {
    "id": "pi_zTmtYPcFh"
   },
   "source": [
    "3. Construya y muestre un nuevo dataframe que contenga la media, el mínimo y el máximo de las siguientes\n",
    "columnas:\n",
    "* Ladder score\n",
    "* Freedom to make life choices\n",
    "* Perceptions of corruption"
   ]
  },
  {
   "cell_type": "code",
   "execution_count": 3,
   "metadata": {
    "colab": {
     "base_uri": "https://localhost:8080/",
     "height": 143
    },
    "executionInfo": {
     "elapsed": 237,
     "status": "ok",
     "timestamp": 1650715310783,
     "user": {
      "displayName": "Ricardo Ragel de la Torre",
      "userId": "02500027367294390960"
     },
     "user_tz": -120
    },
    "id": "Yhqza3hQRZYX",
    "outputId": "56c34f63-08d8-4b52-caee-1eb98532fafa"
   },
   "outputs": [
    {
     "data": {
      "text/html": [
       "<div>\n",
       "<style scoped>\n",
       "    .dataframe tbody tr th:only-of-type {\n",
       "        vertical-align: middle;\n",
       "    }\n",
       "\n",
       "    .dataframe tbody tr th {\n",
       "        vertical-align: top;\n",
       "    }\n",
       "\n",
       "    .dataframe thead th {\n",
       "        text-align: right;\n",
       "    }\n",
       "</style>\n",
       "<table border=\"1\" class=\"dataframe\">\n",
       "  <thead>\n",
       "    <tr style=\"text-align: right;\">\n",
       "      <th></th>\n",
       "      <th>Media</th>\n",
       "      <th>Minimo</th>\n",
       "      <th>Maximo</th>\n",
       "    </tr>\n",
       "  </thead>\n",
       "  <tbody>\n",
       "    <tr>\n",
       "      <th>Ladder score</th>\n",
       "      <td>5.532839</td>\n",
       "      <td>2.523</td>\n",
       "      <td>7.842</td>\n",
       "    </tr>\n",
       "    <tr>\n",
       "      <th>Freedom to make life choices</th>\n",
       "      <td>0.791597</td>\n",
       "      <td>0.382</td>\n",
       "      <td>0.97</td>\n",
       "    </tr>\n",
       "    <tr>\n",
       "      <th>Perceptions of corruption</th>\n",
       "      <td>0.727450</td>\n",
       "      <td>0.082</td>\n",
       "      <td>0.939</td>\n",
       "    </tr>\n",
       "  </tbody>\n",
       "</table>\n",
       "</div>"
      ],
      "text/plain": [
       "                                 Media Minimo Maximo\n",
       "Ladder score                  5.532839  2.523  7.842\n",
       "Freedom to make life choices  0.791597  0.382   0.97\n",
       "Perceptions of corruption     0.727450  0.082  0.939"
      ]
     },
     "execution_count": 3,
     "metadata": {},
     "output_type": "execute_result"
    }
   ],
   "source": [
    "df3 = df[['Ladder score','Freedom to make life choices','Perceptions of corruption']]\n",
    "\n",
    "df4 = pd.DataFrame()\n",
    "df4['Media'] = df3.mean()\n",
    "df4['Minimo'] = df.min()\n",
    "df4['Maximo'] = df.max()\n",
    "df4"
   ]
  },
  {
   "cell_type": "markdown",
   "metadata": {
    "id": "jna4g1XOTPwt"
   },
   "source": [
    "4. Mostrar en una gráfica de barras, para los tres países con mayor puntuación de felicidad (Ladder Score) y los\n",
    "tres países con menor puntuación de felicidad (Ladder Score), los siguientes datos:\n",
    "* Puntuación media de felicidad (Ladder score)\n",
    "* Media de renta per cápita (Logged GDP per cápita)"
   ]
  },
  {
   "cell_type": "code",
   "execution_count": 4,
   "metadata": {
    "colab": {
     "base_uri": "https://localhost:8080/",
     "height": 269
    },
    "executionInfo": {
     "elapsed": 245,
     "status": "ok",
     "timestamp": 1650716308955,
     "user": {
      "displayName": "Ricardo Ragel de la Torre",
      "userId": "02500027367294390960"
     },
     "user_tz": -120
    },
    "id": "4ev3sL8DSSB_",
    "outputId": "a686f3c7-14ed-4f3d-dd79-a476c2dc9be9"
   },
   "outputs": [
    {
     "data": {
      "text/html": [
       "<div>\n",
       "<style scoped>\n",
       "    .dataframe tbody tr th:only-of-type {\n",
       "        vertical-align: middle;\n",
       "    }\n",
       "\n",
       "    .dataframe tbody tr th {\n",
       "        vertical-align: top;\n",
       "    }\n",
       "\n",
       "    .dataframe thead th {\n",
       "        text-align: right;\n",
       "    }\n",
       "</style>\n",
       "<table border=\"1\" class=\"dataframe\">\n",
       "  <thead>\n",
       "    <tr style=\"text-align: right;\">\n",
       "      <th></th>\n",
       "      <th>Ladder score</th>\n",
       "      <th>Logged GDP per capita</th>\n",
       "    </tr>\n",
       "    <tr>\n",
       "      <th>Country name</th>\n",
       "      <th></th>\n",
       "      <th></th>\n",
       "    </tr>\n",
       "  </thead>\n",
       "  <tbody>\n",
       "    <tr>\n",
       "      <th>Finland</th>\n",
       "      <td>7.842</td>\n",
       "      <td>10.775</td>\n",
       "    </tr>\n",
       "    <tr>\n",
       "      <th>Denmark</th>\n",
       "      <td>7.620</td>\n",
       "      <td>10.933</td>\n",
       "    </tr>\n",
       "    <tr>\n",
       "      <th>Switzerland</th>\n",
       "      <td>7.571</td>\n",
       "      <td>11.117</td>\n",
       "    </tr>\n",
       "    <tr>\n",
       "      <th>Rwanda</th>\n",
       "      <td>3.415</td>\n",
       "      <td>7.676</td>\n",
       "    </tr>\n",
       "    <tr>\n",
       "      <th>Zimbabwe</th>\n",
       "      <td>3.145</td>\n",
       "      <td>7.943</td>\n",
       "    </tr>\n",
       "    <tr>\n",
       "      <th>Afghanistan</th>\n",
       "      <td>2.523</td>\n",
       "      <td>7.695</td>\n",
       "    </tr>\n",
       "  </tbody>\n",
       "</table>\n",
       "</div>"
      ],
      "text/plain": [
       "              Ladder score  Logged GDP per capita\n",
       "Country name                                     \n",
       "Finland              7.842                 10.775\n",
       "Denmark              7.620                 10.933\n",
       "Switzerland          7.571                 11.117\n",
       "Rwanda               3.415                  7.676\n",
       "Zimbabwe             3.145                  7.943\n",
       "Afghanistan          2.523                  7.695"
      ]
     },
     "execution_count": 4,
     "metadata": {},
     "output_type": "execute_result"
    }
   ],
   "source": [
    "df_reindexed = df.set_index('Country name')\n",
    "df5 = df_reindexed[['Ladder score', 'Logged GDP per capita']]\n",
    "df5.head()\n",
    "df5_sorted = df5.sort_values('Ladder score')\n",
    "df5_sorted.head()\n",
    "df6 = pd.concat([df5.head(3), df5.tail(3)])\n",
    "df6"
   ]
  },
  {
   "cell_type": "code",
   "execution_count": 5,
   "metadata": {
    "colab": {
     "base_uri": "https://localhost:8080/",
     "height": 329
    },
    "executionInfo": {
     "elapsed": 260,
     "status": "ok",
     "timestamp": 1650716312411,
     "user": {
      "displayName": "Ricardo Ragel de la Torre",
      "userId": "02500027367294390960"
     },
     "user_tz": -120
    },
    "id": "GRWc-IHBUisx",
    "outputId": "02615a6c-dfac-4bcb-a877-e26460d8209a"
   },
   "outputs": [
    {
     "data": {
      "image/png": "[encoded data removed]",
      "text/plain": [
       "<Figure size 640x480 with 1 Axes>"
      ]
     },
     "metadata": {},
     "output_type": "display_data"
    }
   ],
   "source": [
    "import matplotlib.pyplot as plt\n",
    "df6.plot.bar()\n",
    "plt.show()"
   ]
  },
  {
   "cell_type": "markdown",
   "metadata": {
    "id": "n0EGO4ktXNfA"
   },
   "source": [
    "5. Guardar en un fichero “grafica.png” la gráfica generada."
   ]
  },
  {
   "cell_type": "code",
   "execution_count": 6,
   "metadata": {
    "colab": {
     "base_uri": "https://localhost:8080/",
     "height": 329
    },
    "executionInfo": {
     "elapsed": 919,
     "status": "ok",
     "timestamp": 1650716404111,
     "user": {
      "displayName": "Ricardo Ragel de la Torre",
      "userId": "02500027367294390960"
     },
     "user_tz": -120
    },
    "id": "k_qB1iP9XPEn",
    "outputId": "42bd4993-90e1-44c7-a177-705e0d5c6709"
   },
   "outputs": [
    {
     "data": {
      "image/png": "[encoded data removed]",
      "text/plain": [
       "<Figure size 640x480 with 1 Axes>"
      ]
     },
     "metadata": {},
     "output_type": "display_data"
    }
   ],
   "source": [
    "df6.plot.bar()\n",
    "plt.savefig(\"grafica.png\")"
   ]
  }
 ],
 "metadata": {
  "colab": {
   "authorship_tag": "ABX9TyNkvSgTgUuNbCh4fU8rF/jv",
   "collapsed_sections": [],
   "mount_file_id": "1QKS-vcL9z8tTQcqScaJtPfKC1o_rsjQ6",
   "name": "Ej3.ipynb",
   "provenance": []
  },
  "kernelspec": {
   "display_name": "Python 3 (ipykernel)",
   "language": "python",
   "name": "python3"
  },
  "language_info": {
   "codemirror_mode": {
    "name": "ipython",
    "version": 3
   },
   "file_extension": ".py",
   "mimetype": "text/x-python",
   "name": "python",
   "nbconvert_exporter": "python",
   "pygments_lexer": "ipython3",
   "version": "3.13.0"
  }
 },
 "nbformat": 4,
 "nbformat_minor": 4
}
