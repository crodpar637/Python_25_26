{
 "cells": [
  {
   "cell_type": "code",
   "execution_count": 8,
   "id": "3b070739-a61a-445e-81ad-3dbe1f60e351",
   "metadata": {},
   "outputs": [
    {
     "name": "stdout",
     "output_type": "stream",
     "text": [
      "¡Hola mundo!\n",
      "Carlos Rodríguez\n",
      "IES Hermanos Machado\n",
      "2ºDAM\n"
     ]
    }
   ],
   "source": [
    "%run 2-3.py"
   ]
  },
  {
   "cell_type": "code",
   "execution_count": 24,
   "id": "0b57a8cb-5b85-41e4-92df-682b2319cd28",
   "metadata": {},
   "outputs": [
    {
     "name": "stdout",
     "output_type": "stream",
     "text": [
      "\"Me\"\n",
      "\"\"encanta\"\"\n",
      "\"\"\"Python\"\"\"\n",
      "123123\n",
      "5\n",
      "17.5\n"
     ]
    }
   ],
   "source": [
    "%run 3-2.py"
   ]
  },
  {
   "cell_type": "code",
   "execution_count": 4,
   "id": "4f91ecda-aa3c-4e58-8ca9-55fad037f27a",
   "metadata": {},
   "outputs": [
    {
     "name": "stdout",
     "output_type": "stream",
     "text": [
      "3,5,7\n",
      "Total slimes: 15\n",
      "--------------------------------------------------------------------------------\n",
      "En total tienen:\n",
      "\t 4 slimes\n",
      "\t 20 slimes_medianos\n",
      "\t 22 slimes_pequeños\n"
     ]
    }
   ],
   "source": [
    "%run 5-2.py"
   ]
  },
  {
   "cell_type": "code",
   "execution_count": 1,
   "id": "dd265053-135b-429c-957c-aeb4a017263a",
   "metadata": {},
   "outputs": [
    {
     "name": "stdout",
     "output_type": "stream",
     "text": [
      "7.38 millas son 11.88 kilómetros\n",
      "12.25 kilómetros son 7.61 millas\n"
     ]
    }
   ],
   "source": [
    "%run 5-3.py"
   ]
  },
  {
   "cell_type": "code",
   "execution_count": 4,
   "id": "c8f09b9f-b0f7-4f16-9da9-9f6c88ddc7a5",
   "metadata": {},
   "outputs": [
    {
     "name": "stdout",
     "output_type": "stream",
     "text": [
      "y = -9.0\n"
     ]
    }
   ],
   "source": [
    "%run 5-4.py"
   ]
  },
  {
   "cell_type": "code",
   "execution_count": 10,
   "id": "adb8bba3-4fee-4e14-8556-ae5471f5ae4a",
   "metadata": {},
   "outputs": [
    {
     "name": "stdin",
     "output_type": "stream",
     "text": [
      "Hora de inicio (horas):  0\n",
      "Minuto de inicio (minutos):  1\n",
      "Duración del evento (minutos):  2939\n"
     ]
    },
    {
     "name": "stdout",
     "output_type": "stream",
     "text": [
      "Hora final:1:0\n"
     ]
    }
   ],
   "source": [
    "%run 5-7.py"
   ]
  },
  {
   "cell_type": "code",
   "execution_count": 12,
   "id": "39afbaa4-8032-4dad-96c7-0324198aeaee",
   "metadata": {},
   "outputs": [
    {
     "name": "stdin",
     "output_type": "stream",
     "text": [
      "Introduzca su peso en Kg: 118\n",
      "Introduzca su peso en metros 1.85\n"
     ]
    },
    {
     "name": "stdout",
     "output_type": "stream",
     "text": [
      "Tu IMC es de: 34.47772096420745\n"
     ]
    }
   ],
   "source": [
    "%run 5-8.py"
   ]
  },
  {
   "cell_type": "code",
   "execution_count": 17,
   "id": "1e65feaf-9a0d-4140-8361-967b6adf8d7d",
   "metadata": {},
   "outputs": [
    {
     "name": "stdin",
     "output_type": "stream",
     "text": [
      "Ingresa el valor para x:  2\n"
     ]
    },
    {
     "name": "stdout",
     "output_type": "stream",
     "text": [
      "y = 0.4137931034482759\n"
     ]
    },
    {
     "name": "stdin",
     "output_type": "stream",
     "text": [
      " 2\n",
      " 4\n"
     ]
    },
    {
     "ename": "ZeroDivisionError",
     "evalue": "integer division or modulo by zero",
     "output_type": "error",
     "traceback": [
      "\u001b[1;31m---------------------------------------------------------------------------\u001b[0m",
      "\u001b[1;31mZeroDivisionError\u001b[0m                         Traceback (most recent call last)",
      "File \u001b[1;32m~\\AppData\\Roaming\\EDUPYTER-313-3.13.0\\IPYNB\\Curso Python\\5-6.py:12\u001b[0m\n\u001b[0;32m      9\u001b[0m y \u001b[38;5;241m=\u001b[39m \u001b[38;5;28mint\u001b[39m(\u001b[38;5;28minput\u001b[39m())\n\u001b[0;32m     11\u001b[0m x \u001b[38;5;241m=\u001b[39m x \u001b[38;5;241m/\u001b[39m\u001b[38;5;241m/\u001b[39m y\n\u001b[1;32m---> 12\u001b[0m y \u001b[38;5;241m=\u001b[39m \u001b[43my\u001b[49m\u001b[43m \u001b[49m\u001b[38;5;241;43m/\u001b[39;49m\u001b[38;5;241;43m/\u001b[39;49m\u001b[43m \u001b[49m\u001b[43mx\u001b[49m\n\u001b[0;32m     14\u001b[0m \u001b[38;5;28mprint\u001b[39m( y ) \n",
      "\u001b[1;31mZeroDivisionError\u001b[0m: integer division or modulo by zero"
     ]
    }
   ],
   "source": [
    "%run 5-6.py"
   ]
  },
  {
   "cell_type": "code",
   "execution_count": null,
   "id": "4fa7124f-bcfd-49d1-be12-b6c9a9af6eee",
   "metadata": {},
   "outputs": [],
   "source": []
  }
 ],
 "metadata": {
  "kernelspec": {
   "display_name": "Python 3 (ipykernel)",
   "language": "python",
   "name": "python3"
  },
  "language_info": {
   "codemirror_mode": {
    "name": "ipython",
    "version": 3
   },
   "file_extension": ".py",
   "mimetype": "text/x-python",
   "name": "python",
   "nbconvert_exporter": "python",
   "pygments_lexer": "ipython3",
   "version": "3.13.0"
  }
 },
 "nbformat": 4,
 "nbformat_minor": 5
}
